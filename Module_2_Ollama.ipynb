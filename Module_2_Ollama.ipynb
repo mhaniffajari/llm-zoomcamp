{
 "cells": [
  {
   "cell_type": "markdown",
   "id": "5ee2d59f-c796-4e4b-97d3-80d361eaaf0d",
   "metadata": {},
   "source": [
    "# Import Necessary Function and Library"
   ]
  },
  {
   "cell_type": "code",
   "execution_count": 15,
   "id": "fbe7f774-6ce7-472a-a186-4e9109d1974e",
   "metadata": {},
   "outputs": [],
   "source": [
    "import minsearch\n",
    "import json\n",
    "with open('documents.json','rt') as f_in:\n",
    "    docs_raw = json.load(f_in)\n",
    "documents = []\n",
    "\n",
    "for course_dict in docs_raw:\n",
    "    for doc in course_dict['documents']:\n",
    "        doc['course'] = course_dict['course']\n",
    "        documents.append(doc)"
   ]
  },
  {
   "cell_type": "code",
   "execution_count": 16,
   "id": "940b251a-45ef-40df-b78d-1b4bc1d6beb2",
   "metadata": {},
   "outputs": [],
   "source": [
    "index = minsearch.Index(\n",
    "    text_fields = {'question','text','section'},\n",
    "    keyword_fields=['course']\n",
    ")\n",
    "index.fit(documents)\n",
    "boost = {'question':3.0, 'section':0.5}"
   ]
  },
  {
   "cell_type": "code",
   "execution_count": 40,
   "id": "46f49ac9-5c75-4d1a-9387-02a9fa781ac0",
   "metadata": {},
   "outputs": [],
   "source": [
    "def search(query):\n",
    "    boost = {'question':3.0, 'section':0.5}\n",
    "    search_results = index.search(\n",
    "        query=query,\n",
    "        boost_dict = boost,\n",
    "        filter_dict = {'couse':'data-engineering-zoomcamp'},\n",
    "        num_results=5\n",
    "    )\n",
    "    return search_results\n",
    "def build_prompt(query,search_results):\n",
    "    prompt_template = \"\"\"\n",
    "    You are Course Assistant. You answer the question based on context. Use only fact the CONTEXT for answering the question.\n",
    "    \n",
    "    QUESTION: {question}\n",
    "    CONTEXT : \n",
    "    {context}\n",
    "    \"\"\".strip()\n",
    "    context = \"\"\n",
    "    for doc in search_results:\n",
    "        context = context + f\"section: {doc['section']}\\nquestion:{doc['question']}\\nanswer: {doc['text']}\\n\\n\"\n",
    "    prompt = prompt_template.format(question=query,context=search_results).strip()\n",
    "    return prompt\n",
    "def llm_open_api(prompt):\n",
    "    client = OpenAI(api_key=api_key)\n",
    "    response = client.chat.completions.create(model='gpt-3.5-turbo-16k',messages = [{'role':'user',\"content\":prompt}])\n",
    "    return response.choices[0].message.content"
   ]
  },
  {
   "cell_type": "code",
   "execution_count": 36,
   "id": "e07cdae6-32b2-44a5-888a-4b20619a97c6",
   "metadata": {},
   "outputs": [],
   "source": [
    "from openai import OpenAI\n",
    "import sys,os,os.path"
   ]
  },
  {
   "cell_type": "code",
   "execution_count": 37,
   "id": "3468ebb1-a507-4297-a69f-52330d174c14",
   "metadata": {},
   "outputs": [],
   "source": [
    "api_key = os.environ['OPEN_AI_API_KEY']\n",
    "client = OpenAI(api_key=api_key)"
   ]
  },
  {
   "cell_type": "code",
   "execution_count": 38,
   "id": "0459a768-dca5-478b-afae-a48123637d25",
   "metadata": {},
   "outputs": [],
   "source": [
    "def llm_open_api(prompt):\n",
    "    client = OpenAI(api_key=api_key)\n",
    "    response = client.chat.completions.create(model='gpt-3.5-turbo-16k',messages = [{'role':'user',\"content\":prompt}])\n",
    "    return response.choices[0].message.content"
   ]
  },
  {
   "cell_type": "code",
   "execution_count": 39,
   "id": "b5da1ff8-5c73-4146-b576-54eaf5557865",
   "metadata": {},
   "outputs": [],
   "source": [
    "def rag(query):\n",
    "    search_results = search(query)\n",
    "    prompt = build_prompt(query,search_results)\n",
    "    answer = llm_open_api(prompt)\n",
    "    return answer"
   ]
  },
  {
   "cell_type": "code",
   "execution_count": 41,
   "id": "9a9d10e9-484d-4d41-962b-ee8c9fad0f4c",
   "metadata": {},
   "outputs": [
    {
     "data": {
      "text/plain": [
       "\"Yes, you can still enroll in the course. Even though the course has already started, you can still participate and take part in the course activities. However, if you join late, you may not be able to submit some of the homework assignments. To be eligible for a certificate, you will need to submit 2 out of 3 course projects and review 3 peers' projects by the designated deadline.\""
      ]
     },
     "execution_count": 41,
     "metadata": {},
     "output_type": "execute_result"
    }
   ],
   "source": [
    "rag('the course already started. Can I still enroll the course?')"
   ]
  },
  {
   "cell_type": "markdown",
   "id": "d0c9c3dd-d06b-444a-bbf5-b76208cdacbd",
   "metadata": {},
   "source": [
    "# Use Ollama to Run Your LLM"
   ]
  },
  {
   "cell_type": "code",
   "execution_count": 42,
   "id": "1d145740-9035-4169-90c5-145b1a2c9cc5",
   "metadata": {},
   "outputs": [],
   "source": [
    "from openai import OpenAI"
   ]
  },
  {
   "cell_type": "code",
   "execution_count": 49,
   "id": "4d489bef-29f0-45c1-91ad-5743aed4b3d9",
   "metadata": {},
   "outputs": [],
   "source": [
    "def llm_ollama(prompt):\n",
    "    client = OpenAI(\n",
    "    base_url = 'http://localhost:11434/v1/',api_key = 'ollama',)\n",
    "    response = client.chat.completions.create(model='phi3',messages = [{'role':'user',\"content\":prompt}])\n",
    "    return response.choices[0].message.content"
   ]
  },
  {
   "cell_type": "code",
   "execution_count": 51,
   "id": "e23dcf6a-a6f4-4c6d-a483-c4207a33a3e4",
   "metadata": {},
   "outputs": [],
   "source": [
    "def rag_ollama(query):\n",
    "    search_results = search(query)\n",
    "    prompt = build_prompt(query,search_results)\n",
    "    answer = llm_ollama(prompt)\n",
    "    return answer"
   ]
  },
  {
   "cell_type": "code",
   "execution_count": 52,
   "id": "d3a1a7fb-c131-4c43-9266-4cfb7f319a1a",
   "metadata": {},
   "outputs": [
    {
     "data": {
      "text/plain": [
       "\" Yes, you can still enroll in the machine learning Zoom camp even if the course has already started. However, you won't be able to submit some of the homeworks. To receive a certificate, you need to submit 2 out of 3 course projects and review 3 peers’ projects by the deadline.\""
      ]
     },
     "execution_count": 52,
     "metadata": {},
     "output_type": "execute_result"
    }
   ],
   "source": [
    "rag_ollama('the course already started. Can I still enroll the course?')"
   ]
  }
 ],
 "metadata": {
  "kernelspec": {
   "display_name": "Python 3 (ipykernel)",
   "language": "python",
   "name": "python3"
  },
  "language_info": {
   "codemirror_mode": {
    "name": "ipython",
    "version": 3
   },
   "file_extension": ".py",
   "mimetype": "text/x-python",
   "name": "python",
   "nbconvert_exporter": "python",
   "pygments_lexer": "ipython3",
   "version": "3.10.13"
  }
 },
 "nbformat": 4,
 "nbformat_minor": 5
}
