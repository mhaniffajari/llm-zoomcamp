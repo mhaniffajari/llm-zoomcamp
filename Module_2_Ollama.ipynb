{
 "cells": [
  {
   "cell_type": "markdown",
   "id": "5ee2d59f-c796-4e4b-97d3-80d361eaaf0d",
   "metadata": {},
   "source": [
    "# Import Necessary Function and Library"
   ]
  },
  {
   "cell_type": "code",
   "execution_count": 1,
   "id": "fbe7f774-6ce7-472a-a186-4e9109d1974e",
   "metadata": {},
   "outputs": [],
   "source": [
    "import minsearch\n",
    "import json\n",
    "with open('documents.json','rt') as f_in:\n",
    "    docs_raw = json.load(f_in)\n",
    "documents = []\n",
    "\n",
    "for course_dict in docs_raw:\n",
    "    for doc in course_dict['documents']:\n",
    "        doc['course'] = course_dict['course']\n",
    "        documents.append(doc)"
   ]
  },
  {
   "cell_type": "code",
   "execution_count": 2,
   "id": "940b251a-45ef-40df-b78d-1b4bc1d6beb2",
   "metadata": {},
   "outputs": [],
   "source": [
    "index = minsearch.Index(\n",
    "    text_fields = {'question','text','section'},\n",
    "    keyword_fields=['course']\n",
    ")\n",
    "index.fit(documents)\n",
    "boost = {'question':3.0, 'section':0.5}"
   ]
  },
  {
   "cell_type": "code",
   "execution_count": 3,
   "id": "46f49ac9-5c75-4d1a-9387-02a9fa781ac0",
   "metadata": {},
   "outputs": [],
   "source": [
    "def search(query):\n",
    "    boost = {'question':3.0, 'section':0.5}\n",
    "    search_results = index.search(\n",
    "        query=query,\n",
    "        boost_dict = boost,\n",
    "        filter_dict = {'couse':'data-engineering-zoomcamp'},\n",
    "        num_results=5\n",
    "    )\n",
    "    return search_results\n",
    "def build_prompt(query,search_results):\n",
    "    prompt_template = \"\"\"\n",
    "    You are Course Assistant. You answer the question based on context. Use only fact the CONTEXT for answering the question.\n",
    "    \n",
    "    QUESTION: {question}\n",
    "    CONTEXT : \n",
    "    {context}\n",
    "    \"\"\".strip()\n",
    "    context = \"\"\n",
    "    for doc in search_results:\n",
    "        context = context + f\"section: {doc['section']}\\nquestion:{doc['question']}\\nanswer: {doc['text']}\\n\\n\"\n",
    "    prompt = prompt_template.format(question=query,context=search_results).strip()\n",
    "    return prompt\n",
    "def llm_open_api(prompt):\n",
    "    client = OpenAI(api_key=api_key)\n",
    "    response = client.chat.completions.create(model='gpt-3.5-turbo-16k',messages = [{'role':'user',\"content\":prompt}])\n",
    "    return response.choices[0].message.content"
   ]
  },
  {
   "cell_type": "code",
   "execution_count": 4,
   "id": "e07cdae6-32b2-44a5-888a-4b20619a97c6",
   "metadata": {},
   "outputs": [],
   "source": [
    "from openai import OpenAI\n",
    "import sys,os,os.path"
   ]
  },
  {
   "cell_type": "code",
   "execution_count": 15,
   "id": "3468ebb1-a507-4297-a69f-52330d174c14",
   "metadata": {},
   "outputs": [],
   "source": [
    "api_key = os.environ['OPEN_AI_API_KEY']\n",
    "client = OpenAI(api_key=api_key)"
   ]
  },
  {
   "cell_type": "code",
   "execution_count": 16,
   "id": "0459a768-dca5-478b-afae-a48123637d25",
   "metadata": {},
   "outputs": [],
   "source": [
    "def llm_open_api(prompt):\n",
    "    client = OpenAI(api_key=api_key)\n",
    "    response = client.chat.completions.create(model='gpt-3.5-turbo-16k',messages = [{'role':'user',\"content\":prompt}])\n",
    "    return response.choices[0].message.content"
   ]
  },
  {
   "cell_type": "code",
   "execution_count": 17,
   "id": "b5da1ff8-5c73-4146-b576-54eaf5557865",
   "metadata": {},
   "outputs": [],
   "source": [
    "def rag(query):\n",
    "    search_results = search(query)\n",
    "    prompt = build_prompt(query,search_results)\n",
    "    answer = llm_open_api(prompt)\n",
    "    return answer"
   ]
  },
  {
   "cell_type": "code",
   "execution_count": 18,
   "id": "9a9d10e9-484d-4d41-962b-ee8c9fad0f4c",
   "metadata": {},
   "outputs": [
    {
     "data": {
      "text/plain": [
       "\"Yes, you can still enroll in the course even if it has already started. However, if you join the course late, you may not be able to submit some of the homeworks. In order to receive a certificate, you will need to submit 2 out of 3 course projects and review 3 peers' projects by the deadline. So, if you join the course later and manage to work on two projects, you will still be eligible for a certificate.\""
      ]
     },
     "execution_count": 18,
     "metadata": {},
     "output_type": "execute_result"
    }
   ],
   "source": [
    "rag('the course already started. Can I still enroll the course?')"
   ]
  },
  {
   "cell_type": "markdown",
   "id": "d0c9c3dd-d06b-444a-bbf5-b76208cdacbd",
   "metadata": {},
   "source": [
    "# Use Ollama to Run Your LLM"
   ]
  },
  {
   "cell_type": "code",
   "execution_count": 19,
   "id": "1d145740-9035-4169-90c5-145b1a2c9cc5",
   "metadata": {},
   "outputs": [],
   "source": [
    "from openai import OpenAI"
   ]
  },
  {
   "cell_type": "code",
   "execution_count": 20,
   "id": "4d489bef-29f0-45c1-91ad-5743aed4b3d9",
   "metadata": {},
   "outputs": [],
   "source": [
    "def llm_ollama(prompt):\n",
    "    client = OpenAI(\n",
    "    base_url = 'http://localhost:11434/v1/',api_key = 'ollama',)\n",
    "    response = client.chat.completions.create(model='phi3',messages = [{'role':'user',\"content\":prompt}])\n",
    "    return response.choices[0].message.content"
   ]
  },
  {
   "cell_type": "code",
   "execution_count": 21,
   "id": "e23dcf6a-a6f4-4c6d-a483-c4207a33a3e4",
   "metadata": {},
   "outputs": [],
   "source": [
    "def rag_ollama(query):\n",
    "    search_results = search(query)\n",
    "    prompt = build_prompt(query,search_results)\n",
    "    answer = llm_ollama(prompt)\n",
    "    return answer"
   ]
  },
  {
   "cell_type": "code",
   "execution_count": 27,
   "id": "d3a1a7fb-c131-4c43-9266-4cfb7f319a1a",
   "metadata": {},
   "outputs": [
    {
     "data": {
      "text/plain": [
       "'As per your query regarding joining a course that has started, based on this context: \"Yes, we will keep all the materials after the course finishes, so you can follow the course at your own pace.\" and considering it is about Data Engineering Zoom Camp, even if a certain date details such as year or starting time are missing from the provided text. However to enroll in any particular session of this specific \\'Data-Engineering-Zoomcamp\\' after its start isn\\'t explicitly mentioned within context thus further information can be required for accurate answer regarding it. For general course based questions related queries, here you go:\\nYes - even if a certain date is unavailable/missing from the provided text in our context as per this quote \"yes-evenifyoudon’ttregisteryoushouldbeeligibletosubmitthematerialsofcourse\"\\nNo (based on above general course answer) – for specific enrolling questions like after starting or timings, further details can be required from the official course source.'"
      ]
     },
     "execution_count": 27,
     "metadata": {},
     "output_type": "execute_result"
    }
   ],
   "source": [
    "rag_ollama('the course already started. Can I still enroll the course?')"
   ]
  },
  {
   "cell_type": "markdown",
   "id": "74e9925f-8cb0-41d6-9279-02963f1df9e8",
   "metadata": {},
   "source": [
    "# Search with ElasticSearch"
   ]
  },
  {
   "cell_type": "code",
   "execution_count": 28,
   "id": "0604234e-12e3-4e94-8b8f-d544f5d4edb2",
   "metadata": {},
   "outputs": [],
   "source": [
    "from elasticsearch import Elasticsearch"
   ]
  },
  {
   "cell_type": "code",
   "execution_count": 29,
   "id": "4ef1d279-fee5-4967-8be2-27341b844119",
   "metadata": {},
   "outputs": [],
   "source": [
    "es_client = Elasticsearch('http://127.0.0.1:9200')"
   ]
  },
  {
   "cell_type": "code",
   "execution_count": 30,
   "id": "d153e636-ca2f-42a6-a087-6173cd9f3a0d",
   "metadata": {},
   "outputs": [
    {
     "data": {
      "text/plain": [
       "ObjectApiResponse({'name': '1d49b5fa33b3', 'cluster_name': 'docker-cluster', 'cluster_uuid': 'zOAQjRsURd2hiFNlYGTbVQ', 'version': {'number': '8.4.3', 'build_flavor': 'default', 'build_type': 'docker', 'build_hash': '42f05b9372a9a4a470db3b52817899b99a76ee73', 'build_date': '2022-10-04T07:17:24.662462378Z', 'build_snapshot': False, 'lucene_version': '9.3.0', 'minimum_wire_compatibility_version': '7.17.0', 'minimum_index_compatibility_version': '7.0.0'}, 'tagline': 'You Know, for Search'})"
      ]
     },
     "execution_count": 30,
     "metadata": {},
     "output_type": "execute_result"
    }
   ],
   "source": [
    "es_client.info()"
   ]
  },
  {
   "cell_type": "code",
   "execution_count": 31,
   "id": "8e8bfa86-3acb-435b-a9f8-b0db3ffbd951",
   "metadata": {},
   "outputs": [
    {
     "data": {
      "text/plain": [
       "ObjectApiResponse({'acknowledged': True, 'shards_acknowledged': True, 'index': 'course_question'})"
      ]
     },
     "execution_count": 31,
     "metadata": {},
     "output_type": "execute_result"
    }
   ],
   "source": [
    "index_settings = {\n",
    "    \"settings\": {\n",
    "        \"number_of_shards\": 1,\n",
    "        \"number_of_replicas\": 0\n",
    "    },\n",
    "    \"mappings\": {\n",
    "        \"properties\": {\n",
    "            \"text\": {\"type\": \"text\"},\n",
    "            \"section\": {\"type\": \"text\"},\n",
    "            \"question\": {\"type\": \"text\"},\n",
    "            \"course\": {\"type\": \"keyword\"} \n",
    "        }\n",
    "    }\n",
    "}\n",
    "index_name = 'course_question'\n",
    "es_client.indices.create(index=index_name,body=index_settings)"
   ]
  },
  {
   "cell_type": "code",
   "execution_count": 32,
   "id": "9d10a127-978d-4147-89dc-cecb2024189a",
   "metadata": {},
   "outputs": [
    {
     "name": "stderr",
     "output_type": "stream",
     "text": [
      "/home/codespace/.local/lib/python3.10/site-packages/tqdm/auto.py:21: TqdmWarning: IProgress not found. Please update jupyter and ipywidgets. See https://ipywidgets.readthedocs.io/en/stable/user_install.html\n",
      "  from .autonotebook import tqdm as notebook_tqdm\n"
     ]
    }
   ],
   "source": [
    "from tqdm.auto import tqdm"
   ]
  },
  {
   "cell_type": "code",
   "execution_count": 33,
   "id": "b67f7b9f-04cd-4bb4-9ae0-b1b3c3e5d7e5",
   "metadata": {},
   "outputs": [],
   "source": [
    "for doc in documents:\n",
    "    es_client.index(index=index_name,document=doc)"
   ]
  },
  {
   "cell_type": "code",
   "execution_count": 34,
   "id": "8a860528-63f9-40c8-8b26-bf8851c7b351",
   "metadata": {},
   "outputs": [],
   "source": [
    "def elastic_query(query):\n",
    "    search_query = {\n",
    "        \"size\": 5,\n",
    "        \"query\": {\n",
    "            \"bool\": {\n",
    "                \"must\": {\n",
    "                    \"multi_match\": {\n",
    "                        \"query\": query,\n",
    "                        \"fields\": [\"question^3\", \"text\", \"section\"],\n",
    "                        \"type\": \"best_fields\"\n",
    "                    }\n",
    "                },\n",
    "                \"filter\": {\n",
    "                    \"term\": {\n",
    "                        \"course\": \"data-engineering-zoomcamp\"\n",
    "                    }\n",
    "                }\n",
    "            }\n",
    "        }\n",
    "    }\n",
    "    response = es_client.search(index=index_name,body=search_query)\n",
    "    result_docs = []\n",
    "    for hit in response['hits']['hits']:\n",
    "        result_docs.append(hit['_source'])\n",
    "    return result_docs"
   ]
  },
  {
   "cell_type": "code",
   "execution_count": 38,
   "id": "a26f1500-71c9-49b7-a8f7-7726d5994782",
   "metadata": {},
   "outputs": [],
   "source": [
    "def rag_elastic_ollama(query):\n",
    "    search_results = elastic_query(query)\n",
    "    prompt = build_prompt(query,search_results)\n",
    "    answer = llm_ollama(prompt)\n",
    "    return answer"
   ]
  },
  {
   "cell_type": "code",
   "execution_count": 40,
   "id": "b215c126-6b1c-4929-8f86-6fe9a9379b7e",
   "metadata": {},
   "outputs": [],
   "source": [
    "search_results = elastic_query(query)"
   ]
  },
  {
   "cell_type": "code",
   "execution_count": 39,
   "id": "9f1679a8-8cce-4216-b573-2350cdfa02a9",
   "metadata": {},
   "outputs": [
    {
     "data": {
      "text/plain": [
       "\"Based on your question, it is possible that you could still enroll in a started Data Engineering Zoom Camp. However, there are considerations due to project deadlines and individual comfort with prerequisites. It might be advisable for potential learners to review pre-course materials like dependencies setup instructions first (including Google Cloud account and software installs) as well assortment of course syllabus before the officially start date, in order to better prepare themselves prior enrollment into the self-paced mode.\\nIt's also important for potential learners who opt not finish/participate in courses within allotted deadlines and requirements by the endorsing community help maintain course integrity - such as ensuring sDocker containers exit codes would not impact their access to answers or materials shared on channels like Slack, FAQ documentations etc. There's even a potential for learners themselves to contribute back (like improvements in documentation/instrucción) through creating PR if they find it valuable and use of @ZoomcampQABot is suggested as additional aid without complete reliance upon bot-provided answers due to their probabilistic nature ❤.\""
      ]
     },
     "execution_count": 39,
     "metadata": {},
     "output_type": "execute_result"
    }
   ],
   "source": [
    "query = 'the course already started. Can I still enroll the course?'\n",
    "rag_elastic_ollama(query)"
   ]
  }
 ],
 "metadata": {
  "kernelspec": {
   "display_name": "Python 3 (ipykernel)",
   "language": "python",
   "name": "python3"
  },
  "language_info": {
   "codemirror_mode": {
    "name": "ipython",
    "version": 3
   },
   "file_extension": ".py",
   "mimetype": "text/x-python",
   "name": "python",
   "nbconvert_exporter": "python",
   "pygments_lexer": "ipython3",
   "version": "3.10.13"
  }
 },
 "nbformat": 4,
 "nbformat_minor": 5
}
