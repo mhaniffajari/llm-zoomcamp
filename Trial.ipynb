{
 "cells": [
  {
   "cell_type": "code",
   "execution_count": 2,
   "id": "c9ea2f9d-38ca-4271-8c41-2a082864a505",
   "metadata": {},
   "outputs": [],
   "source": [
    "import openai"
   ]
  },
  {
   "cell_type": "code",
   "execution_count": 3,
   "id": "ce88bca3-ae00-4fbd-8186-0b773a50761c",
   "metadata": {},
   "outputs": [],
   "source": [
    "from openai import OpenAI"
   ]
  },
  {
   "cell_type": "code",
   "execution_count": 4,
   "id": "cf40958a-b856-4470-9981-6d95ecc9a107",
   "metadata": {},
   "outputs": [],
   "source": [
    "import sys,os,os.path"
   ]
  },
  {
   "cell_type": "code",
   "execution_count": 6,
   "id": "511bbd9e-da64-4a96-bd25-f9fa638f3451",
   "metadata": {},
   "outputs": [],
   "source": [
    "api_key = os.environ['OPEN_AI_API_KEY']"
   ]
  },
  {
   "cell_type": "code",
   "execution_count": 7,
   "id": "40d8b256-70e1-4e3d-99c8-e90897389235",
   "metadata": {},
   "outputs": [],
   "source": [
    "client = OpenAI(api_key=api_key)"
   ]
  },
  {
   "cell_type": "code",
   "execution_count": 9,
   "id": "6bc3b29e-010c-475e-a14c-924106d13948",
   "metadata": {},
   "outputs": [],
   "source": [
    "response = client.chat.completions.create(\n",
    "    model = 'gpt-3.5-turbo-16k',\n",
    "    messages=[{\"role\":\"user\",\"content\":\"is it to late join the course\"}])"
   ]
  },
  {
   "cell_type": "code",
   "execution_count": 12,
   "id": "1ee698a7-890a-4f42-baa4-b89fa4279fce",
   "metadata": {},
   "outputs": [
    {
     "data": {
      "text/plain": [
       "'It depends on the specific course and its start date. Some courses may have specific enrollment deadlines, while others may allow late registration. It is best to contact the course provider or educational institution directly to inquire about their enrollment policies and any available options for joining the course.'"
      ]
     },
     "execution_count": 12,
     "metadata": {},
     "output_type": "execute_result"
    }
   ],
   "source": [
    "response.choices[0].message.content"
   ]
  }
 ],
 "metadata": {
  "kernelspec": {
   "display_name": "Python 3 (ipykernel)",
   "language": "python",
   "name": "python3"
  },
  "language_info": {
   "codemirror_mode": {
    "name": "ipython",
    "version": 3
   },
   "file_extension": ".py",
   "mimetype": "text/x-python",
   "name": "python",
   "nbconvert_exporter": "python",
   "pygments_lexer": "ipython3",
   "version": "3.10.13"
  }
 },
 "nbformat": 4,
 "nbformat_minor": 5
}
