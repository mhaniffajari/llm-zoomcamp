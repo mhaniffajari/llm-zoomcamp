{
 "cells": [
  {
   "cell_type": "markdown",
   "id": "ee89b1ed-fb4d-4663-99c4-475bef9b88b8",
   "metadata": {},
   "source": [
    "# Offline RAG Evaluation"
   ]
  },
  {
   "cell_type": "markdown",
   "id": "2a39c9e7-a75d-408c-acea-07bd5be13f21",
   "metadata": {},
   "source": [
    "## Load Documents with IDS"
   ]
  },
  {
   "cell_type": "code",
   "execution_count": 12,
   "id": "95ed41b6-b4a5-4f1f-8f0a-1a35c4ff13d7",
   "metadata": {},
   "outputs": [],
   "source": [
    "import json\n",
    "with open('documents-with-ids.json','rt') as f:\n",
    "    docs_raw = json.load(f)"
   ]
  },
  {
   "cell_type": "code",
   "execution_count": 13,
   "id": "c18c8814-060d-40d3-8dd4-521fcfd24da5",
   "metadata": {},
   "outputs": [],
   "source": [
    "documents = []\n",
    "for course_dict in docs_raw:\n",
    "    documents.append(course_dict)"
   ]
  },
  {
   "cell_type": "markdown",
   "id": "f6a02519-6c1c-42f1-ad24-257ee7557e3f",
   "metadata": {},
   "source": [
    "## Load Ground Truth Dataset"
   ]
  },
  {
   "cell_type": "code",
   "execution_count": 14,
   "id": "addd5caa-f3c9-4635-b505-f43b070267c2",
   "metadata": {},
   "outputs": [],
   "source": [
    "import pandas as pd"
   ]
  },
  {
   "cell_type": "code",
   "execution_count": 15,
   "id": "957148e7-2068-4389-917a-b49989328efc",
   "metadata": {},
   "outputs": [],
   "source": [
    "df = pd.read_csv('ground_truth_dataset.csv')"
   ]
  },
  {
   "cell_type": "code",
   "execution_count": 16,
   "id": "6305b572-ed94-4c79-b812-28bff65990b8",
   "metadata": {},
   "outputs": [
    {
     "data": {
      "text/html": [
       "<div>\n",
       "<style scoped>\n",
       "    .dataframe tbody tr th:only-of-type {\n",
       "        vertical-align: middle;\n",
       "    }\n",
       "\n",
       "    .dataframe tbody tr th {\n",
       "        vertical-align: top;\n",
       "    }\n",
       "\n",
       "    .dataframe thead th {\n",
       "        text-align: right;\n",
       "    }\n",
       "</style>\n",
       "<table border=\"1\" class=\"dataframe\">\n",
       "  <thead>\n",
       "    <tr style=\"text-align: right;\">\n",
       "      <th></th>\n",
       "      <th>question</th>\n",
       "      <th>course</th>\n",
       "      <th>document</th>\n",
       "    </tr>\n",
       "  </thead>\n",
       "  <tbody>\n",
       "    <tr>\n",
       "      <th>0</th>\n",
       "      <td>When will the course start?</td>\n",
       "      <td>data-engineering-zoomcamp</td>\n",
       "      <td>c02e79ef</td>\n",
       "    </tr>\n",
       "    <tr>\n",
       "      <th>1</th>\n",
       "      <td>How do I subscribe to the course Google Calendar?</td>\n",
       "      <td>data-engineering-zoomcamp</td>\n",
       "      <td>c02e79ef</td>\n",
       "    </tr>\n",
       "    <tr>\n",
       "      <th>2</th>\n",
       "      <td>What should I do before the course starts?</td>\n",
       "      <td>data-engineering-zoomcamp</td>\n",
       "      <td>c02e79ef</td>\n",
       "    </tr>\n",
       "    <tr>\n",
       "      <th>3</th>\n",
       "      <td>How can I join the course Telegram channel?</td>\n",
       "      <td>data-engineering-zoomcamp</td>\n",
       "      <td>c02e79ef</td>\n",
       "    </tr>\n",
       "    <tr>\n",
       "      <th>4</th>\n",
       "      <td>Where should I register and join the channel i...</td>\n",
       "      <td>data-engineering-zoomcamp</td>\n",
       "      <td>c02e79ef</td>\n",
       "    </tr>\n",
       "  </tbody>\n",
       "</table>\n",
       "</div>"
      ],
      "text/plain": [
       "                                            question  \\\n",
       "0                        When will the course start?   \n",
       "1  How do I subscribe to the course Google Calendar?   \n",
       "2         What should I do before the course starts?   \n",
       "3        How can I join the course Telegram channel?   \n",
       "4  Where should I register and join the channel i...   \n",
       "\n",
       "                      course  document  \n",
       "0  data-engineering-zoomcamp  c02e79ef  \n",
       "1  data-engineering-zoomcamp  c02e79ef  \n",
       "2  data-engineering-zoomcamp  c02e79ef  \n",
       "3  data-engineering-zoomcamp  c02e79ef  \n",
       "4  data-engineering-zoomcamp  c02e79ef  "
      ]
     },
     "execution_count": 16,
     "metadata": {},
     "output_type": "execute_result"
    }
   ],
   "source": [
    "df.head(5)"
   ]
  },
  {
   "cell_type": "code",
   "execution_count": 17,
   "id": "cf4bfa27-ae76-4455-897a-c6aaaf4bcb1d",
   "metadata": {},
   "outputs": [],
   "source": [
    "df = df[df['course']=='machine-learning-zoomcamp']"
   ]
  },
  {
   "cell_type": "code",
   "execution_count": 18,
   "id": "87d53164-e5fb-49b8-9b6c-c03e850a1d0a",
   "metadata": {},
   "outputs": [
    {
     "data": {
      "text/plain": [
       "question    1776\n",
       "course      1776\n",
       "document    1776\n",
       "dtype: int64"
      ]
     },
     "execution_count": 18,
     "metadata": {},
     "output_type": "execute_result"
    }
   ],
   "source": [
    "df.count()"
   ]
  },
  {
   "cell_type": "code",
   "execution_count": 20,
   "id": "278d6816-8a4b-44ee-af72-7ab192e6ce1e",
   "metadata": {},
   "outputs": [],
   "source": [
    "ground_truth = df.to_dict(orient='records')"
   ]
  },
  {
   "cell_type": "code",
   "execution_count": 21,
   "id": "dd0d54fc-2aad-4c22-831e-d6c27e54cc89",
   "metadata": {},
   "outputs": [
    {
     "data": {
      "text/plain": [
       "{'question': 'What is the purpose of the document?',\n",
       " 'course': 'machine-learning-zoomcamp',\n",
       " 'document': '0227b872'}"
      ]
     },
     "execution_count": 21,
     "metadata": {},
     "output_type": "execute_result"
    }
   ],
   "source": [
    "ground_truth[0]"
   ]
  },
  {
   "cell_type": "code",
   "execution_count": 22,
   "id": "5232d1c5-7377-4107-bff6-d75d596ec64e",
   "metadata": {},
   "outputs": [
    {
     "name": "stdout",
     "output_type": "stream",
     "text": [
      "Machine Learning Zoomcamp FAQ\n",
      "The purpose of this document is to capture frequently asked technical questions.\n",
      "We did this for our data engineering course and it worked quite well. Check this document for inspiration on how to structure your questions and answers:\n",
      "Data Engineering Zoomcamp FAQ\n",
      "In the course GitHub repository there’s a link. Here it is: https://airtable.com/shryxwLd0COOEaqXo\n",
      "work\n"
     ]
    }
   ],
   "source": [
    "doc_idx = {d['id']: d for d in documents}\n",
    "print(doc_idx['0227b872']['text'])"
   ]
  },
  {
   "cell_type": "markdown",
   "id": "edad37a6-35c1-4851-ba4c-08b20c3bf76c",
   "metadata": {},
   "source": [
    "## Index Data"
   ]
  },
  {
   "cell_type": "code",
   "execution_count": 1,
   "id": "43a3d910-424a-4409-acbb-ade6c4fae774",
   "metadata": {},
   "outputs": [
    {
     "name": "stderr",
     "output_type": "stream",
     "text": [
      "/home/codespace/.local/lib/python3.12/site-packages/tqdm/auto.py:21: TqdmWarning: IProgress not found. Please update jupyter and ipywidgets. See https://ipywidgets.readthedocs.io/en/stable/user_install.html\n",
      "  from .autonotebook import tqdm as notebook_tqdm\n"
     ]
    }
   ],
   "source": [
    "from sentence_transformers import SentenceTransformer"
   ]
  },
  {
   "cell_type": "code",
   "execution_count": 3,
   "id": "63387852-4986-4107-af69-2f6dcd28161f",
   "metadata": {},
   "outputs": [
    {
     "name": "stderr",
     "output_type": "stream",
     "text": [
      "/home/codespace/.local/lib/python3.12/site-packages/transformers/tokenization_utils_base.py:1601: FutureWarning: `clean_up_tokenization_spaces` was not set. It will be set to `True` by default. This behavior will be depracted in transformers v4.45, and will be then set to `False` by default. For more details check this issue: https://github.com/huggingface/transformers/issues/31884\n",
      "  warnings.warn(\n"
     ]
    }
   ],
   "source": [
    "model_name = 'multi-qa-MiniLM-L6-cos-v1'\n",
    "model = SentenceTransformer(model_name)"
   ]
  },
  {
   "cell_type": "code",
   "execution_count": 5,
   "id": "a28fd124-7333-4658-98f2-d7d2eb25c49b",
   "metadata": {},
   "outputs": [
    {
     "data": {
      "text/plain": [
       "384"
      ]
     },
     "execution_count": 5,
     "metadata": {},
     "output_type": "execute_result"
    }
   ],
   "source": [
    "len(model.encode('please encode this word'))"
   ]
  },
  {
   "cell_type": "code",
   "execution_count": 7,
   "id": "4f958247-1352-4781-8bd0-baa8d4d70137",
   "metadata": {},
   "outputs": [
    {
     "data": {
      "text/plain": [
       "ObjectApiResponse({'acknowledged': True, 'shards_acknowledged': True, 'index': 'semantic_course_question'})"
      ]
     },
     "execution_count": 7,
     "metadata": {},
     "output_type": "execute_result"
    }
   ],
   "source": [
    "from elasticsearch import Elasticsearch\n",
    "es_client = Elasticsearch('http://127.0.0.1:9200')\n",
    "index_settings = {\n",
    "    \"settings\": {\n",
    "        \"number_of_shards\": 1,\n",
    "        \"number_of_replicas\": 0\n",
    "    },\n",
    "    \"mappings\": {\n",
    "        \"properties\": {\n",
    "            \"text\": {\"type\": \"text\"},\n",
    "            \"section\": {\"type\": \"text\"},\n",
    "            \"question\": {\"type\": \"text\"},\n",
    "            \"course\": {\"type\": \"keyword\"},\n",
    "            \"question_text_vector\":{\"type\":\"dense_vector\",\"dims\":384,\"index\":True,\"similarity\":\"cosine\"}\n",
    "        }\n",
    "    }\n",
    "}\n",
    "index_name = 'semantic_course_question'\n",
    "es_client.indices.delete(index=index_name,ignore_unavailable=True)\n",
    "es_client.indices.create(index=index_name,body=index_settings)"
   ]
  },
  {
   "cell_type": "code",
   "execution_count": 8,
   "id": "ec73cbbb-4e02-44f5-b5e7-46562a2b0645",
   "metadata": {},
   "outputs": [],
   "source": [
    "from tqdm.auto import tqdm"
   ]
  },
  {
   "cell_type": "code",
   "execution_count": 23,
   "id": "66532522-254e-4f6f-9346-997082656fb2",
   "metadata": {},
   "outputs": [
    {
     "name": "stderr",
     "output_type": "stream",
     "text": [
      "100%|█████████████████████████████████████████████████████████████████████████████████████████████████████████████████████████████████████████████████| 948/948 [00:52<00:00, 17.91it/s]\n"
     ]
    }
   ],
   "source": [
    "for doc in tqdm(documents):\n",
    "    question = doc['question']\n",
    "    text = doc['text']\n",
    "    doc['question_text_vector'] = model.encode(question+' '+text)\n",
    "    \n",
    "    es_client.index(index=index_name,document=doc)"
   ]
  },
  {
   "cell_type": "markdown",
   "id": "117413de-722a-4373-9717-4edd823083de",
   "metadata": {},
   "source": [
    "## Retrieval"
   ]
  },
  {
   "cell_type": "code",
   "execution_count": 103,
   "id": "d7dc50e8-16e7-4c67-823b-32b1a7923dbc",
   "metadata": {},
   "outputs": [],
   "source": [
    "def vector_search_knn(field,vector,course):\n",
    "    query_setting = {\n",
    "    \"field\":field,\n",
    "    \"query_vector\": vector,\n",
    "    \"k\":5,\n",
    "    \"num_candidates\":10000}\n",
    "    response = es_client.search(\n",
    "        index=index_name,\n",
    "        knn=query_setting,\n",
    "        query={\n",
    "            \"match\":{\n",
    "                \"course\":course\n",
    "            }\n",
    "        })\n",
    "    result_docs = []\n",
    "    for hit in response['hits']['hits']:\n",
    "        source = hit['_source']\n",
    "        # Extract only the required fields\n",
    "        result_docs.append({\n",
    "            'text': source.get('text'),\n",
    "            'section': source.get('section'),\n",
    "            'question': source.get('question'),\n",
    "            'course': source.get('course')\n",
    "        })\n",
    "    return result_docs"
   ]
  },
  {
   "cell_type": "code",
   "execution_count": 104,
   "id": "1279c447-eafa-4e24-8859-f4364505650e",
   "metadata": {},
   "outputs": [],
   "source": [
    "def question_text_vector_knn(q):\n",
    "    question = q['question']\n",
    "    course = q['course']\n",
    "    v_q = model.encode(question)\n",
    "    return vector_search_knn('question_text_vector', v_q, course)"
   ]
  },
  {
   "cell_type": "code",
   "execution_count": 105,
   "id": "ac0d71da-679d-4e7b-9cc8-b0ca159cf4e0",
   "metadata": {
    "scrolled": true
   },
   "outputs": [
    {
     "data": {
      "text/plain": [
       "[{'text': 'The course videos are pre-recorded, you can start watching the course right now.\\nWe will also occasionally have office hours - live sessions where we will answer your questions. The office hours sessions are recorded too.\\nYou can see the office hours as well as the pre-recorded course videos in the course playlist on YouTube.',\n",
       "  'section': 'General course-related questions',\n",
       "  'question': 'Is it going to be live? When?',\n",
       "  'course': 'machine-learning-zoomcamp'},\n",
       " {'text': 'How to visualize the predictions per classes after training a neural net\\nSolution description\\nclasses, predictions = zip(*dict(zip(classes, predictions)).items())\\nplt.figure(figsize=(12, 3))\\nplt.bar(classes, predictions)\\nLuke',\n",
       "  'section': 'Miscellaneous',\n",
       "  'question': 'Chart for classes and predictions',\n",
       "  'course': 'machine-learning-zoomcamp'},\n",
       " {'text': 'Machine Learning Zoomcamp FAQ\\nThe purpose of this document is to capture frequently asked technical questions.\\nWe did this for our data engineering course and it worked quite well. Check this document for inspiration on how to structure your questions and answers:\\nData Engineering Zoomcamp FAQ\\nIn the course GitHub repository there’s a link. Here it is: https://airtable.com/shryxwLd0COOEaqXo\\nwork',\n",
       "  'section': 'General course-related questions',\n",
       "  'question': 'How do I sign up?',\n",
       "  'course': 'machine-learning-zoomcamp'},\n",
       " {'text': 'Everything is recorded, so you won’t miss anything. You will be able to ask your questions for office hours in advance and we will cover them during the live stream. Also, you can always ask questions in Slack.',\n",
       "  'section': 'General course-related questions',\n",
       "  'question': 'What if I miss a session?',\n",
       "  'course': 'machine-learning-zoomcamp'},\n",
       " {'text': \"The bare minimum. The focus is more on practice, and we'll cover the theory only on the intuitive level.: https://mlbookcamp.com/article/python\\nFor example, we won't derive the gradient update rule for logistic regression (there are other great courses for that), but we'll cover how to use logistic regression and make sense of the results.\",\n",
       "  'section': 'General course-related questions',\n",
       "  'question': 'How much theory will you cover?',\n",
       "  'course': 'machine-learning-zoomcamp'},\n",
       " {'text': \"Yes! We'll cover some linear algebra in the course, but in general, there will be very few formulas, mostly code.\\nHere are some interesting videos covering linear algebra that you can already watch: ML Zoomcamp 1.8 - Linear Algebra Refresher from Alexey Grigorev or the excellent playlist from 3Blue1Brown Vectors | Chapter 1, Essence of linear algebra. Never hesitate to ask the community for help if you have any question.\\n(Mélanie Fouesnard)\",\n",
       "  'section': 'General course-related questions',\n",
       "  'question': \"I don't know math. Can I take the course?\",\n",
       "  'course': 'machine-learning-zoomcamp'},\n",
       " {'text': \"The process is automated now, so you should receive the email eventually. If you haven’t, check your promotions tab in Gmail as well as spam.\\nIf you unsubscribed from our newsletter, you won't get course related updates too.\\nBut don't worry, it’s not a problem. To make sure you don’t miss anything, join the #course-ml-zoomcamp channel in Slack and our telegram channel with announcements. This is enough to follow the course.\",\n",
       "  'section': 'General course-related questions',\n",
       "  'question': \"I filled the form, but haven't received a confirmation email. Is it normal?\",\n",
       "  'course': 'machine-learning-zoomcamp'},\n",
       " {'text': 'Approximately 4 months, but may take more if you want to do some extra activities (an extra project, an article, etc)',\n",
       "  'section': 'General course-related questions',\n",
       "  'question': 'How long is the course?',\n",
       "  'course': 'machine-learning-zoomcamp'},\n",
       " {'text': 'Around ~10 hours per week. Timur Kamaliev did a detailed analysis of how much time students of the previous cohort needed to spend on different modules and projects. Full article',\n",
       "  'section': 'General course-related questions',\n",
       "  'question': 'How much time do I need for this course?',\n",
       "  'course': 'machine-learning-zoomcamp'},\n",
       " {'text': 'Yes, if you finish at least 2 out of 3 projects and review 3 peers’ Projects by the deadline, you will get a certificate. This is what it looks like: link. There’s also a version without a robot: link.',\n",
       "  'section': 'General course-related questions',\n",
       "  'question': 'Will I get a certificate?',\n",
       "  'course': 'machine-learning-zoomcamp'}]"
      ]
     },
     "execution_count": 105,
     "metadata": {},
     "output_type": "execute_result"
    }
   ],
   "source": [
    "question_text_vector_knn(dict(question='this the class recorded?',course='machine-learning-zoomcamp'))"
   ]
  },
  {
   "cell_type": "markdown",
   "id": "3e15ce28-59e2-4a19-8bf6-7d40dd0cb852",
   "metadata": {},
   "source": [
    "## RAG Flow"
   ]
  },
  {
   "cell_type": "code",
   "execution_count": 106,
   "id": "822dd88f-662f-4b24-a673-09547694d09d",
   "metadata": {},
   "outputs": [],
   "source": [
    "from openai import OpenAI\n",
    "import sys,os,os.path"
   ]
  },
  {
   "cell_type": "code",
   "execution_count": 108,
   "id": "65922872-a097-43bc-b600-5f8602e4cf03",
   "metadata": {},
   "outputs": [],
   "source": [
    "api_key = os.environ['OPEN_AI_API_KEY']"
   ]
  },
  {
   "cell_type": "code",
   "execution_count": 109,
   "id": "bb602141-da43-49d1-a5be-912e0f37cca6",
   "metadata": {},
   "outputs": [],
   "source": [
    "def build_prompt(query,search_results):\n",
    "    prompt_template = \"\"\"\n",
    "    You are Course Assistant. You answer the question based on context. Use only fact the CONTEXT for answering the question.\n",
    "    \n",
    "    QUESTION: {question}\n",
    "    CONTEXT : \n",
    "    {context}\n",
    "    \"\"\".strip()\n",
    "    context = \"\"\n",
    "    for doc in search_results:\n",
    "        context = context + f\"section: {doc['section']}\\nquestion:{doc['question']}\\nanswer: {doc['text']}\\n\\n\"\n",
    "    prompt = prompt_template.format(question=query,context=search_results).strip()\n",
    "    return prompt"
   ]
  },
  {
   "cell_type": "code",
   "execution_count": 110,
   "id": "3752cfb1-b665-49e4-b19d-b36ae64ad2fa",
   "metadata": {},
   "outputs": [],
   "source": [
    "def llm_open_api(prompt):\n",
    "    client = OpenAI(api_key=api_key)\n",
    "    response = client.chat.completions.create(model='gpt-3.5-turbo-16k',messages = [{'role':'user',\"content\":prompt}])\n",
    "    return response.choices[0].message.content"
   ]
  },
  {
   "cell_type": "code",
   "execution_count": 111,
   "id": "5c3685ee-4235-4e4c-a99b-11a98b810142",
   "metadata": {},
   "outputs": [],
   "source": [
    "def rag(query:dict) -> str:\n",
    "    search_results = question_text_vector_knn(query)\n",
    "    prompt = build_prompt(query['question'],search_results)\n",
    "    answer = llm_open_api(prompt)\n",
    "    return answer"
   ]
  },
  {
   "cell_type": "code",
   "execution_count": 112,
   "id": "fd9fd4e6-43e7-4c7a-b94e-0b71b83e48cc",
   "metadata": {},
   "outputs": [
    {
     "data": {
      "text/plain": [
       "{'question': 'What happens if I am unable to attend a session?',\n",
       " 'course': 'machine-learning-zoomcamp',\n",
       " 'document': '5170565b'}"
      ]
     },
     "execution_count": 112,
     "metadata": {},
     "output_type": "execute_result"
    }
   ],
   "source": [
    "ground_truth[10]"
   ]
  },
  {
   "cell_type": "code",
   "execution_count": 113,
   "id": "de98684c-4e7e-4baa-a9e4-f1d7b3ff612d",
   "metadata": {},
   "outputs": [
    {
     "data": {
      "text/plain": [
       "\"If you are unable to attend a session, everything is recorded, so you won't miss anything. You can ask your questions for office hours in advance and they will be covered during the live stream. Additionally, you can always ask questions in Slack.\""
      ]
     },
     "execution_count": 113,
     "metadata": {},
     "output_type": "execute_result"
    }
   ],
   "source": [
    "rag(ground_truth[10])"
   ]
  },
  {
   "cell_type": "code",
   "execution_count": 115,
   "id": "92b380ab-8a12-4b1d-ba1b-c44b73ac7e75",
   "metadata": {},
   "outputs": [
    {
     "data": {
      "text/plain": [
       "'Everything is recorded, so you won’t miss anything. You will be able to ask your questions for office hours in advance and we will cover them during the live stream. Also, you can always ask questions in Slack.'"
      ]
     },
     "execution_count": 115,
     "metadata": {},
     "output_type": "execute_result"
    }
   ],
   "source": [
    "doc_idx['5170565b']['text']"
   ]
  },
  {
   "cell_type": "markdown",
   "id": "02b2e54c-a3ed-423c-9209-5804eaf3a537",
   "metadata": {},
   "source": [
    "## Cosine Similiarity Metrics"
   ]
  },
  {
   "cell_type": "code",
   "execution_count": 116,
   "id": "e5e624b2-ff2f-4155-8827-043c9565b586",
   "metadata": {},
   "outputs": [
    {
     "data": {
      "text/plain": [
       "np.float32(0.87166506)"
      ]
     },
     "execution_count": 116,
     "metadata": {},
     "output_type": "execute_result"
    }
   ],
   "source": [
    "answer_llm = \"If you are unable to attend a session, everything is recorded, so you won't miss anything. You can ask your questions for office hours in advance and they will be covered during the live stream. Additionally, you can always ask questions in Slack.\"\n",
    "answer_original = 'Everything is recorded, so you won’t miss anything. You will be able to ask your questions for office hours in advance and we will cover them during the live stream. Also, you can always ask questions in Slack.'\n",
    "v_llm = model.encode(answer_llm)\n",
    "v_original = model.encode(answer_original)\n",
    "v_llm.dot(v_original)"
   ]
  },
  {
   "cell_type": "code",
   "execution_count": null,
   "id": "14b23b13-989d-4b77-9f22-724de60a6a3f",
   "metadata": {},
   "outputs": [],
   "source": [
    "answers = {}\n",
    "for i,rec in tqdm(enumerate(ground_truth)):\n",
    "    if i in answers:\n",
    "        continue\n",
    "    answer_llm = rag(rec)\n",
    "    doc_id = rec['document']\n",
    "    answer_original = doc_idx[doc_id]['text']\n",
    "    answers[i] = {\n",
    "    'answer_llm':answer_llm,\n",
    "    'answer_original':answer_original,\n",
    "    'document': doc_id \n",
    "    }"
   ]
  },
  {
   "cell_type": "code",
   "execution_count": 122,
   "id": "1d6b1463-69cb-4546-a681-db829dd4fc1a",
   "metadata": {},
   "outputs": [],
   "source": [
    "with open('answers.json','wt') as f:\n",
    "    json.dump(answers,f,indent=2)"
   ]
  },
  {
   "cell_type": "code",
   "execution_count": 123,
   "id": "b0dbd694-3523-4779-8723-a24f6d7006ef",
   "metadata": {},
   "outputs": [
    {
     "data": {
      "text/plain": [
       "1195"
      ]
     },
     "execution_count": 123,
     "metadata": {},
     "output_type": "execute_result"
    }
   ],
   "source": [
    "len(answers)"
   ]
  },
  {
   "cell_type": "code",
   "execution_count": null,
   "id": "6e53b9cf-2850-4707-a484-74313301c970",
   "metadata": {},
   "outputs": [],
   "source": []
  }
 ],
 "metadata": {
  "kernelspec": {
   "display_name": "Python 3 (ipykernel)",
   "language": "python",
   "name": "python3"
  },
  "language_info": {
   "codemirror_mode": {
    "name": "ipython",
    "version": 3
   },
   "file_extension": ".py",
   "mimetype": "text/x-python",
   "name": "python",
   "nbconvert_exporter": "python",
   "pygments_lexer": "ipython3",
   "version": "3.12.1"
  }
 },
 "nbformat": 4,
 "nbformat_minor": 5
}
