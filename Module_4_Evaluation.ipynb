{
 "cells": [
  {
   "cell_type": "markdown",
   "id": "ee89b1ed-fb4d-4663-99c4-475bef9b88b8",
   "metadata": {},
   "source": [
    "# Offline RAG Evaluation"
   ]
  },
  {
   "cell_type": "markdown",
   "id": "2a39c9e7-a75d-408c-acea-07bd5be13f21",
   "metadata": {},
   "source": [
    "## Load Documents with IDS"
   ]
  },
  {
   "cell_type": "code",
   "execution_count": 16,
   "id": "95ed41b6-b4a5-4f1f-8f0a-1a35c4ff13d7",
   "metadata": {},
   "outputs": [],
   "source": [
    "import json\n",
    "with open('documents-with-ids.json','rt') as f:\n",
    "    docs_raw = json.load(f)"
   ]
  },
  {
   "cell_type": "code",
   "execution_count": 18,
   "id": "c18c8814-060d-40d3-8dd4-521fcfd24da5",
   "metadata": {},
   "outputs": [],
   "source": [
    "documents = []\n",
    "for course_dict in docs_raw:\n",
    "    documents.append(course_dict)"
   ]
  },
  {
   "cell_type": "markdown",
   "id": "f6a02519-6c1c-42f1-ad24-257ee7557e3f",
   "metadata": {},
   "source": [
    "## Load Ground Truth Dataset"
   ]
  },
  {
   "cell_type": "code",
   "execution_count": 1,
   "id": "addd5caa-f3c9-4635-b505-f43b070267c2",
   "metadata": {},
   "outputs": [],
   "source": [
    "import pandas as pd"
   ]
  },
  {
   "cell_type": "code",
   "execution_count": 2,
   "id": "957148e7-2068-4389-917a-b49989328efc",
   "metadata": {},
   "outputs": [],
   "source": [
    "df = pd.read_csv('ground_truth_dataset.csv')"
   ]
  },
  {
   "cell_type": "code",
   "execution_count": 4,
   "id": "6305b572-ed94-4c79-b812-28bff65990b8",
   "metadata": {},
   "outputs": [
    {
     "data": {
      "text/html": [
       "<div>\n",
       "<style scoped>\n",
       "    .dataframe tbody tr th:only-of-type {\n",
       "        vertical-align: middle;\n",
       "    }\n",
       "\n",
       "    .dataframe tbody tr th {\n",
       "        vertical-align: top;\n",
       "    }\n",
       "\n",
       "    .dataframe thead th {\n",
       "        text-align: right;\n",
       "    }\n",
       "</style>\n",
       "<table border=\"1\" class=\"dataframe\">\n",
       "  <thead>\n",
       "    <tr style=\"text-align: right;\">\n",
       "      <th></th>\n",
       "      <th>question</th>\n",
       "      <th>course</th>\n",
       "      <th>document</th>\n",
       "    </tr>\n",
       "  </thead>\n",
       "  <tbody>\n",
       "    <tr>\n",
       "      <th>0</th>\n",
       "      <td>When will the course start?</td>\n",
       "      <td>data-engineering-zoomcamp</td>\n",
       "      <td>c02e79ef</td>\n",
       "    </tr>\n",
       "    <tr>\n",
       "      <th>1</th>\n",
       "      <td>How do I subscribe to the course Google Calendar?</td>\n",
       "      <td>data-engineering-zoomcamp</td>\n",
       "      <td>c02e79ef</td>\n",
       "    </tr>\n",
       "    <tr>\n",
       "      <th>2</th>\n",
       "      <td>What should I do before the course starts?</td>\n",
       "      <td>data-engineering-zoomcamp</td>\n",
       "      <td>c02e79ef</td>\n",
       "    </tr>\n",
       "    <tr>\n",
       "      <th>3</th>\n",
       "      <td>How can I join the course Telegram channel?</td>\n",
       "      <td>data-engineering-zoomcamp</td>\n",
       "      <td>c02e79ef</td>\n",
       "    </tr>\n",
       "    <tr>\n",
       "      <th>4</th>\n",
       "      <td>Where should I register and join the channel i...</td>\n",
       "      <td>data-engineering-zoomcamp</td>\n",
       "      <td>c02e79ef</td>\n",
       "    </tr>\n",
       "  </tbody>\n",
       "</table>\n",
       "</div>"
      ],
      "text/plain": [
       "                                            question  \\\n",
       "0                        When will the course start?   \n",
       "1  How do I subscribe to the course Google Calendar?   \n",
       "2         What should I do before the course starts?   \n",
       "3        How can I join the course Telegram channel?   \n",
       "4  Where should I register and join the channel i...   \n",
       "\n",
       "                      course  document  \n",
       "0  data-engineering-zoomcamp  c02e79ef  \n",
       "1  data-engineering-zoomcamp  c02e79ef  \n",
       "2  data-engineering-zoomcamp  c02e79ef  \n",
       "3  data-engineering-zoomcamp  c02e79ef  \n",
       "4  data-engineering-zoomcamp  c02e79ef  "
      ]
     },
     "execution_count": 4,
     "metadata": {},
     "output_type": "execute_result"
    }
   ],
   "source": [
    "df.head(5)"
   ]
  },
  {
   "cell_type": "code",
   "execution_count": 10,
   "id": "cf4bfa27-ae76-4455-897a-c6aaaf4bcb1d",
   "metadata": {},
   "outputs": [],
   "source": [
    "df = df[df['course']=='machine-learning-zoomcamp']"
   ]
  },
  {
   "cell_type": "code",
   "execution_count": 11,
   "id": "87d53164-e5fb-49b8-9b6c-c03e850a1d0a",
   "metadata": {},
   "outputs": [
    {
     "data": {
      "text/plain": [
       "question    1776\n",
       "course      1776\n",
       "document    1776\n",
       "dtype: int64"
      ]
     },
     "execution_count": 11,
     "metadata": {},
     "output_type": "execute_result"
    }
   ],
   "source": [
    "df.count()"
   ]
  },
  {
   "cell_type": "code",
   "execution_count": 13,
   "id": "278d6816-8a4b-44ee-af72-7ab192e6ce1e",
   "metadata": {},
   "outputs": [],
   "source": [
    "ground_truth = df.to_dict(orient='records')"
   ]
  },
  {
   "cell_type": "code",
   "execution_count": 14,
   "id": "dd0d54fc-2aad-4c22-831e-d6c27e54cc89",
   "metadata": {},
   "outputs": [
    {
     "data": {
      "text/plain": [
       "{'question': 'What is the purpose of the document?',\n",
       " 'course': 'machine-learning-zoomcamp',\n",
       " 'document': '0227b872'}"
      ]
     },
     "execution_count": 14,
     "metadata": {},
     "output_type": "execute_result"
    }
   ],
   "source": [
    "ground_truth[0]"
   ]
  },
  {
   "cell_type": "code",
   "execution_count": 23,
   "id": "5232d1c5-7377-4107-bff6-d75d596ec64e",
   "metadata": {},
   "outputs": [
    {
     "name": "stdout",
     "output_type": "stream",
     "text": [
      "Machine Learning Zoomcamp FAQ\n",
      "The purpose of this document is to capture frequently asked technical questions.\n",
      "We did this for our data engineering course and it worked quite well. Check this document for inspiration on how to structure your questions and answers:\n",
      "Data Engineering Zoomcamp FAQ\n",
      "In the course GitHub repository there’s a link. Here it is: https://airtable.com/shryxwLd0COOEaqXo\n",
      "work\n"
     ]
    }
   ],
   "source": [
    "doc_idx = {d['id']: d for d in documents}\n",
    "print(doc_idx['0227b872']['text'])"
   ]
  }
 ],
 "metadata": {
  "kernelspec": {
   "display_name": "Python 3 (ipykernel)",
   "language": "python",
   "name": "python3"
  },
  "language_info": {
   "codemirror_mode": {
    "name": "ipython",
    "version": 3
   },
   "file_extension": ".py",
   "mimetype": "text/x-python",
   "name": "python",
   "nbconvert_exporter": "python",
   "pygments_lexer": "ipython3",
   "version": "3.12.1"
  }
 },
 "nbformat": 4,
 "nbformat_minor": 5
}
