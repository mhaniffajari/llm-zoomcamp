{
 "cells": [
  {
   "cell_type": "code",
   "execution_count": 1,
   "id": "bbd71687",
   "metadata": {},
   "outputs": [],
   "source": [
    "from elasticsearch import Elasticsearch\n",
    "import json"
   ]
  },
  {
   "cell_type": "markdown",
   "id": "59709575",
   "metadata": {},
   "source": [
    "# Use Embedding to Support Semantic Search "
   ]
  },
  {
   "cell_type": "markdown",
   "id": "18c616e0",
   "metadata": {},
   "source": [
    "## Gather Dataset"
   ]
  },
  {
   "cell_type": "code",
   "execution_count": 2,
   "id": "fc454532",
   "metadata": {},
   "outputs": [],
   "source": [
    "with open('documents.json','rt') as f:\n",
    "    docs_raw = json.load(f)"
   ]
  },
  {
   "cell_type": "code",
   "execution_count": 3,
   "id": "8d242f2c",
   "metadata": {},
   "outputs": [],
   "source": [
    "documents = []\n",
    "for course_dict in docs_raw:\n",
    "    for doc in course_dict['documents']:\n",
    "        doc['course'] = course_dict['course']\n",
    "        documents.append(doc)"
   ]
  },
  {
   "cell_type": "code",
   "execution_count": 4,
   "id": "c07349c9",
   "metadata": {},
   "outputs": [
    {
     "data": {
      "text/plain": [
       "{'text': \"You don't need it. You're accepted. You can also just start learning and submitting homework without registering. It is not checked against any registered list. Registration is just to gauge interest before the start date.\",\n",
       " 'section': 'General course-related questions',\n",
       " 'question': 'Course - I have registered for the Data Engineering Bootcamp. When can I expect to receive the confirmation email?',\n",
       " 'course': 'data-engineering-zoomcamp'}"
      ]
     },
     "execution_count": 4,
     "metadata": {},
     "output_type": "execute_result"
    }
   ],
   "source": [
    "documents[3]"
   ]
  },
  {
   "cell_type": "markdown",
   "id": "9858b1f9",
   "metadata": {},
   "source": [
    "## Create Embeddings using Pretrained Models"
   ]
  },
  {
   "cell_type": "code",
   "execution_count": 5,
   "id": "f658d64f",
   "metadata": {},
   "outputs": [],
   "source": [
    "#!pip install sentence_transformers==2.7.0"
   ]
  },
  {
   "cell_type": "code",
   "execution_count": 6,
   "id": "cf08b34e",
   "metadata": {},
   "outputs": [],
   "source": [
    "from sentence_transformers import SentenceTransformer"
   ]
  },
  {
   "cell_type": "code",
   "execution_count": 7,
   "id": "4774acbd",
   "metadata": {},
   "outputs": [],
   "source": [
    "#!pip uninstall numpy\n",
    "#!pip uninstall torch\n",
    "#!pip install numpy = 1.26.4\n",
    "#!pip install torch"
   ]
  },
  {
   "cell_type": "code",
   "execution_count": 8,
   "id": "92abae3f",
   "metadata": {},
   "outputs": [
    {
     "name": "stderr",
     "output_type": "stream",
     "text": [
      "C:\\Users\\Hanif\\anaconda3\\lib\\site-packages\\transformers\\tokenization_utils_base.py:1601: FutureWarning: `clean_up_tokenization_spaces` was not set. It will be set to `True` by default. This behavior will be depracted in transformers v4.45, and will be then set to `False` by default. For more details check this issue: https://github.com/huggingface/transformers/issues/31884\n",
      "  warnings.warn(\n"
     ]
    }
   ],
   "source": [
    "model = SentenceTransformer('all-mpnet-base-v2')"
   ]
  },
  {
   "cell_type": "code",
   "execution_count": 9,
   "id": "dbb513a9",
   "metadata": {},
   "outputs": [
    {
     "data": {
      "text/plain": [
       "768"
      ]
     },
     "execution_count": 9,
     "metadata": {},
     "output_type": "execute_result"
    }
   ],
   "source": [
    "len(model.encode('encode this word'))"
   ]
  },
  {
   "cell_type": "code",
   "execution_count": 10,
   "id": "cf1e9370",
   "metadata": {},
   "outputs": [
    {
     "data": {
      "text/plain": [
       "{'text': 'GitHub - DataTalksClub data-engineering-zoomcamp#prerequisites',\n",
       " 'section': 'General course-related questions',\n",
       " 'question': 'Course - What are the prerequisites for this course?',\n",
       " 'course': 'data-engineering-zoomcamp'}"
      ]
     },
     "execution_count": 10,
     "metadata": {},
     "output_type": "execute_result"
    }
   ],
   "source": [
    "documents[1]"
   ]
  },
  {
   "cell_type": "code",
   "execution_count": 11,
   "id": "3bdacd43",
   "metadata": {},
   "outputs": [],
   "source": [
    "operations = []\n",
    "for doc in documents:\n",
    "    doc['text_vector'] = model.encode(doc['text'])\n",
    "    operations.append(doc)"
   ]
  },
  {
   "cell_type": "code",
   "execution_count": 12,
   "id": "fa1f1efa",
   "metadata": {},
   "outputs": [
    {
     "data": {
      "text/plain": [
       "{'text': 'GitHub - DataTalksClub data-engineering-zoomcamp#prerequisites',\n",
       " 'section': 'General course-related questions',\n",
       " 'question': 'Course - What are the prerequisites for this course?',\n",
       " 'course': 'data-engineering-zoomcamp',\n",
       " 'text_vector': array([-4.10303585e-02,  2.58341245e-02, -3.68019156e-02, -2.08983012e-02,\n",
       "        -2.05962416e-02,  9.35374666e-03, -3.33163445e-03, -9.49193351e-03,\n",
       "         3.01179346e-02,  1.90821160e-02,  1.26900887e-02, -1.70788169e-02,\n",
       "        -1.63238146e-03,  1.29972577e-01,  3.09692957e-02, -2.58236825e-02,\n",
       "         2.78230421e-02,  2.51597390e-02, -8.08122009e-02, -3.61742009e-03,\n",
       "        -8.90200026e-03,  3.40489321e-03, -2.30093114e-02, -3.40453349e-02,\n",
       "         2.45986190e-02,  1.35456128e-02, -2.54389830e-02,  1.19510842e-02,\n",
       "        -2.05401015e-02, -1.00774709e-02,  2.05753352e-02,  4.38897982e-02,\n",
       "         1.43946512e-02,  1.82718430e-02,  1.71625845e-06, -1.92925166e-02,\n",
       "        -1.57902297e-02,  8.83050449e-03,  4.14086170e-02,  1.78545620e-02,\n",
       "         2.32321844e-02,  1.58900730e-02,  3.30364890e-02, -6.24873629e-03,\n",
       "        -2.43136417e-02, -5.07790502e-03, -2.29706932e-02,  4.38693427e-02,\n",
       "         5.36100678e-02,  1.91394724e-02,  2.80068498e-02, -9.30078700e-03,\n",
       "         6.72420561e-02, -3.03626955e-02,  6.23608455e-02,  5.65709136e-02,\n",
       "         1.33485598e-02,  9.63697433e-02,  5.78080043e-02,  1.59435943e-02,\n",
       "         2.26811562e-02,  1.22608207e-02, -1.53396921e-02,  4.08482105e-02,\n",
       "         7.09988028e-02,  4.47930489e-03,  2.14603599e-02, -9.62397233e-02,\n",
       "         1.04959812e-02,  1.83281656e-02,  6.05951734e-02, -2.21784413e-03,\n",
       "        -3.11768358e-03,  3.34035829e-02, -6.83867186e-03,  3.64632457e-02,\n",
       "        -2.05243360e-02, -1.75296515e-02,  3.70428301e-02,  1.50716072e-02,\n",
       "        -1.25113741e-01, -6.19450249e-02, -6.22766539e-02, -2.93780991e-04,\n",
       "         3.72723266e-02,  3.74683961e-02,  7.16887042e-03,  9.75138228e-03,\n",
       "        -1.73043907e-02, -5.08063398e-02,  3.61451693e-02, -4.91075683e-03,\n",
       "        -1.50090745e-02,  3.39645073e-02, -8.21141805e-03, -6.48052096e-02,\n",
       "         2.75686681e-02,  6.69917762e-02,  4.07865085e-02, -2.66800765e-02,\n",
       "        -5.30045368e-02, -1.33858202e-02,  1.95445642e-02,  2.25218628e-02,\n",
       "         1.63939372e-02, -1.44124161e-02,  4.59276177e-02, -1.62097048e-02,\n",
       "         5.27834557e-02,  7.65680568e-03,  1.47207836e-02,  4.80493717e-02,\n",
       "        -5.06892763e-02, -7.96165143e-04, -5.14487922e-02,  1.53030725e-02,\n",
       "         1.86058581e-02, -1.30869802e-02,  3.62519920e-03,  2.32333709e-02,\n",
       "         2.69895513e-02, -2.64041848e-03, -5.42845810e-03, -1.34410812e-02,\n",
       "        -6.09483644e-02, -6.90937862e-02, -2.39572916e-02,  3.10230944e-02,\n",
       "        -1.11645656e-02, -6.75659850e-02, -3.89804728e-02,  3.96659821e-02,\n",
       "        -1.84014831e-02,  2.55572004e-03,  3.21171694e-02,  2.16738470e-02,\n",
       "         1.29319949e-03, -8.38333741e-03, -9.21803340e-02,  1.77086294e-02,\n",
       "         4.54836525e-02,  5.41335065e-03, -8.81401449e-02, -3.53611223e-02,\n",
       "         8.86090007e-03, -1.55964456e-02, -1.39922379e-02,  1.87024362e-02,\n",
       "        -1.10764697e-03,  3.05805840e-02, -6.05191402e-02,  2.55353246e-02,\n",
       "        -5.84227666e-02,  6.83504762e-03,  4.33722511e-02,  2.80113462e-02,\n",
       "         2.43288949e-02,  4.58729193e-02, -2.41659395e-02,  2.48271339e-02,\n",
       "        -1.20975534e-02, -4.97055985e-02,  7.90970474e-02, -2.21536052e-03,\n",
       "         8.51821061e-03,  1.64195653e-02, -3.40744145e-02,  3.66353206e-02,\n",
       "         6.47151959e-04, -3.85326743e-02, -5.14861494e-02,  7.44859362e-03,\n",
       "        -3.05339787e-02,  9.56715941e-02, -3.42338369e-03,  7.27618858e-02,\n",
       "         3.98693942e-02, -7.58221895e-02, -3.30529436e-02,  1.46617275e-02,\n",
       "        -1.11127552e-02, -1.55004427e-01,  1.19960876e-02, -1.27321770e-02,\n",
       "         7.02662915e-02, -2.04491206e-02, -3.65614109e-02,  6.77934363e-02,\n",
       "        -1.26530454e-02,  2.75020767e-03,  1.43336318e-02,  1.24035461e-03,\n",
       "        -9.06408299e-03, -5.72123565e-03,  2.27109380e-02, -7.70793809e-03,\n",
       "         4.97536287e-02, -4.63819597e-03,  4.33109589e-02, -4.68765795e-02,\n",
       "        -1.90520529e-02,  4.13962267e-02, -4.01809365e-02, -2.52349917e-02,\n",
       "         1.68598741e-02, -9.61842015e-03, -2.83597317e-02, -4.80307154e-02,\n",
       "         1.30741596e-02, -2.12704204e-02,  4.65134904e-02,  9.45965201e-03,\n",
       "        -1.66032873e-02, -2.12297421e-02, -1.23900212e-02, -1.75231267e-02,\n",
       "        -4.98058274e-03, -6.28837794e-02,  4.76024151e-02, -3.18629742e-02,\n",
       "        -1.04721431e-02, -3.56473699e-02, -2.43293699e-02,  1.08534098e-02,\n",
       "         1.13471448e-02,  4.61156778e-02, -7.33260019e-03, -3.82734947e-02,\n",
       "         6.20383583e-02,  2.82896087e-02, -1.07373083e-02, -4.57179956e-02,\n",
       "        -6.20588427e-03,  6.72774613e-02,  7.11652962e-03, -4.45092469e-02,\n",
       "         5.70780560e-02,  6.83401013e-03,  2.21453141e-02, -6.64312318e-02,\n",
       "        -4.62730555e-03,  6.64964970e-03, -3.89648303e-02,  2.79385466e-02,\n",
       "         3.27673480e-02, -2.69393157e-02, -5.87029755e-03,  8.68295413e-03,\n",
       "         4.12391797e-02, -3.76855992e-02,  8.10892880e-02,  1.23705333e-02,\n",
       "        -1.15153594e-02,  1.92302987e-02,  3.62412035e-02, -5.85785769e-02,\n",
       "         2.83025503e-02,  1.17821675e-02, -7.88035244e-03,  1.01505294e-02,\n",
       "         3.65211889e-02, -3.72332744e-02, -8.64608493e-03, -4.25328165e-02,\n",
       "        -7.15698767e-03, -2.68878080e-02,  4.58357148e-02, -1.00117391e-02,\n",
       "        -1.95121486e-02,  1.38008054e-02, -4.29698154e-02,  3.57265361e-02,\n",
       "         3.02010644e-02, -2.10937634e-02,  6.05943846e-03,  2.07633935e-02,\n",
       "         2.43876874e-02, -2.43610796e-02, -9.25167799e-02,  1.83843088e-03,\n",
       "        -4.87074479e-02, -6.45610364e-03,  1.37697766e-02, -1.04119293e-02,\n",
       "        -2.82448493e-02, -3.08418274e-02,  4.36332934e-02, -6.07939772e-02,\n",
       "        -5.53748396e-04, -2.78453417e-02, -3.04589812e-02,  3.53964791e-02,\n",
       "         1.90898832e-02, -2.14056522e-02, -3.64385247e-02,  1.53658055e-02,\n",
       "         6.27938807e-02, -2.46068332e-02, -1.10447628e-03,  3.36049646e-02,\n",
       "        -8.33524950e-03, -3.02659050e-02, -4.23094295e-02,  1.91660840e-02,\n",
       "        -2.18448415e-02,  4.47831936e-02, -1.12500759e-02, -2.19594762e-02,\n",
       "         2.55216453e-02, -2.98356600e-02,  3.98322288e-03, -2.76511721e-03,\n",
       "         1.26378909e-02, -5.04608266e-02, -1.23496326e-02,  6.51084178e-04,\n",
       "         6.44317940e-02,  4.91281413e-02, -1.88365243e-02,  3.74052636e-02,\n",
       "        -1.72875933e-02, -3.63171995e-02, -1.08569663e-03, -9.12143812e-02,\n",
       "        -4.12162878e-02,  1.00247387e-03, -7.96978250e-02, -1.54087422e-02,\n",
       "        -2.01644506e-02,  1.40914163e-02, -7.19720311e-03, -1.05896425e-02,\n",
       "        -2.29632370e-02,  3.44375297e-02,  1.05612921e-02, -3.38569991e-02,\n",
       "        -3.06399129e-02, -5.63496910e-02,  5.96846938e-02, -2.54215319e-02,\n",
       "        -3.08335219e-02,  3.94562297e-02,  7.43848551e-03,  8.81278217e-02,\n",
       "         1.32844150e-02, -1.96085274e-02,  5.69545403e-02, -1.01913670e-02,\n",
       "        -2.52352152e-02,  2.28676051e-02,  4.35710028e-02,  4.80996594e-02,\n",
       "        -2.15372397e-03, -8.67242273e-03,  1.02628134e-02, -4.13387679e-02,\n",
       "         1.27131101e-02,  1.50078274e-02, -3.22747305e-02, -6.82032900e-03,\n",
       "        -5.33392914e-02, -6.37529418e-03,  2.66193151e-02, -5.91031164e-02,\n",
       "        -4.40487266e-02,  4.41718921e-02,  5.43144569e-02, -2.46112570e-02,\n",
       "         3.21458876e-02, -3.02371080e-03,  3.11637372e-02,  2.71317456e-02,\n",
       "         1.86797455e-02,  2.39252672e-02,  3.27612609e-02, -5.41232750e-02,\n",
       "        -2.57511362e-02,  1.54335669e-03,  4.09809686e-02,  1.59422420e-02,\n",
       "         1.17010565e-03, -6.40685558e-02,  3.20062391e-03,  3.57559919e-02,\n",
       "         4.84113432e-02,  1.19010508e-02, -5.30463550e-03, -1.82774849e-02,\n",
       "        -1.98630076e-02,  4.07346413e-02,  2.64366833e-03,  6.83047855e-03,\n",
       "        -9.63113010e-02, -7.14115724e-02,  1.29596544e-02, -3.72329131e-02,\n",
       "        -2.26626582e-02,  3.17027271e-02,  6.16903324e-03,  2.26823147e-03,\n",
       "        -1.12583824e-02, -9.03652236e-03, -1.08504603e-02,  3.24937850e-02,\n",
       "        -9.08517186e-03,  6.33252561e-02, -4.78739198e-03,  2.49395636e-03,\n",
       "         5.52589365e-04,  1.21291606e-02,  5.38129658e-02,  4.65995185e-02,\n",
       "        -2.43393984e-03, -1.38734682e-02,  5.15602566e-02, -4.16822769e-02,\n",
       "         1.18484562e-02,  1.89249869e-02,  6.81154430e-02, -2.01791096e-02,\n",
       "         8.18408444e-04, -2.70589665e-02,  2.51001827e-02, -7.27647869e-03,\n",
       "         4.43705581e-02, -2.83907969e-02,  6.60625324e-02, -3.45311984e-02,\n",
       "         2.83206478e-02,  1.11734830e-02,  3.71444598e-02, -1.47904688e-03,\n",
       "        -6.25224877e-03,  3.67739908e-02,  1.61247142e-02, -3.03489584e-02,\n",
       "         2.26538926e-02,  2.84199733e-02, -4.92918938e-02,  3.01676076e-02,\n",
       "        -1.28363317e-04,  7.17169493e-02,  2.20771860e-02, -1.59532335e-02,\n",
       "        -1.66583490e-02, -1.19977361e-02,  2.51878854e-02, -4.66569699e-02,\n",
       "         6.97000548e-02,  5.57486061e-03,  7.55854137e-03, -8.37771893e-02,\n",
       "        -4.58908118e-02, -1.88262779e-02,  2.41299868e-02, -1.23611297e-02,\n",
       "         5.95526770e-02, -6.48146272e-02, -5.14614508e-02, -4.59690392e-03,\n",
       "        -5.62032172e-03,  3.80507074e-02, -1.76484380e-02, -4.20561358e-02,\n",
       "        -1.25368088e-02, -5.03683016e-02,  6.23999909e-02, -1.13654085e-01,\n",
       "        -2.12774538e-02, -1.58880018e-02,  1.21265464e-02,  8.73258617e-03,\n",
       "        -1.02861682e-02,  3.24963517e-02,  6.58281967e-02, -3.87197733e-02,\n",
       "         6.24298491e-03,  1.21003706e-02,  3.45739685e-02, -1.03813279e-02,\n",
       "         1.07432725e-02,  6.05681352e-02,  1.58338025e-02, -1.56600978e-02,\n",
       "        -2.10888535e-02,  1.07946955e-02,  4.15701270e-02, -3.21418718e-02,\n",
       "        -1.64396316e-02,  1.00346385e-02, -1.82364564e-02, -3.60028706e-02,\n",
       "         2.92634163e-02, -5.78902811e-02,  3.84916458e-03, -3.01272720e-02,\n",
       "         7.99827278e-03,  4.19839509e-02,  3.42380181e-02, -7.09400028e-02,\n",
       "         3.94107141e-02, -6.44954666e-02,  3.94027978e-02, -2.13752650e-02,\n",
       "        -8.82573724e-02, -1.50935417e-02,  5.34995599e-03,  1.85041111e-02,\n",
       "        -1.97607595e-02, -1.19026331e-02,  1.41584943e-03, -4.27765325e-02,\n",
       "        -3.25692594e-02, -4.48208340e-02, -1.10405516e-02,  1.52524086e-02,\n",
       "        -1.37778698e-02,  6.87680617e-02, -5.10470592e-04, -2.41148029e-03,\n",
       "         3.80446166e-02, -9.98716219e-04, -9.90694575e-03, -4.61423844e-02,\n",
       "         2.41990797e-02, -1.75180733e-02,  1.77444033e-02,  1.76265649e-02,\n",
       "         3.33722308e-02,  5.32090627e-02, -4.59248535e-02, -3.83831374e-03,\n",
       "        -2.98116691e-02, -2.37603560e-02, -3.86855267e-02, -4.06405441e-02,\n",
       "         6.05196320e-02,  1.08019616e-02, -3.88384610e-02, -1.02405697e-02,\n",
       "         3.31440717e-02, -2.65482664e-02, -3.59321907e-02,  1.79021657e-02,\n",
       "         5.14143705e-03,  5.20792119e-02,  1.06412694e-02,  1.66313406e-02,\n",
       "        -1.42213097e-02,  1.48559455e-02,  3.21718096e-03, -4.61726356e-03,\n",
       "         8.76840577e-02,  2.72100251e-02,  5.42292185e-02, -5.82652877e-33,\n",
       "         2.05201140e-04,  5.44048846e-02, -6.64195046e-03,  8.10384080e-02,\n",
       "        -1.11539531e-02, -2.83043571e-02, -2.03900542e-02, -7.08552310e-03,\n",
       "        -5.87132648e-02, -2.29027327e-02,  2.78619118e-02,  2.79354621e-02,\n",
       "         1.91858578e-02,  4.60554436e-02,  9.54858027e-03,  5.83717637e-02,\n",
       "        -3.12530398e-02, -9.65416525e-03, -1.87751409e-02, -1.55199482e-03,\n",
       "        -5.70035316e-02,  1.81863960e-02, -4.21023108e-02,  4.28606011e-02,\n",
       "        -3.68915088e-02, -1.47583159e-02, -2.12237053e-02, -1.52544805e-03,\n",
       "         6.47939295e-02, -4.19169776e-02,  3.36949527e-02, -2.20843069e-02,\n",
       "        -1.74322668e-02, -8.11583474e-02, -8.91454238e-03, -1.90462042e-02,\n",
       "        -1.99163873e-02, -3.40006091e-02, -6.24716468e-02,  1.05863633e-02,\n",
       "         2.47994415e-03,  6.48922846e-02,  2.90960465e-02, -3.10193785e-02,\n",
       "         1.17805982e-02,  2.21491419e-02,  2.79602036e-02,  3.88870947e-02,\n",
       "         3.00854836e-02,  7.69876391e-02,  1.79739017e-02,  2.89045144e-02,\n",
       "        -3.07867210e-02,  4.70912531e-02,  2.26944312e-02, -2.70837336e-03,\n",
       "        -1.09646777e-02,  1.95085425e-02,  5.87104969e-02,  2.91899927e-02,\n",
       "         9.60008726e-02, -9.62269213e-03,  1.99556593e-02, -5.37109235e-03,\n",
       "         3.66655998e-02,  3.11858812e-03,  2.73551010e-02, -4.16114703e-02,\n",
       "         3.09884828e-02,  5.15194237e-02, -2.69941408e-02,  3.56305428e-02,\n",
       "        -1.73768122e-02,  4.16338295e-02, -6.09589517e-02, -5.71794249e-03,\n",
       "         5.97718498e-03, -4.85158758e-03,  6.81133866e-02, -1.08644315e-04,\n",
       "        -3.10359951e-02, -1.80917848e-02,  8.98415316e-03,  2.89083505e-03,\n",
       "         5.25416508e-02, -1.56301446e-02, -3.14961784e-02, -9.90194455e-03,\n",
       "        -1.87509395e-02,  2.42823102e-02, -1.12633687e-02,  1.20131046e-01,\n",
       "        -7.78371096e-03,  1.52810127e-03, -1.48165468e-02,  1.30424267e-02,\n",
       "         8.53616837e-03,  1.72576588e-02,  6.81183720e-03, -5.27486578e-03,\n",
       "        -4.37338799e-02, -3.19005251e-02,  8.58262368e-03,  1.83643997e-02,\n",
       "         2.18436290e-02, -2.75809527e-03, -1.45632774e-02, -3.77984196e-02,\n",
       "        -2.89791618e-02,  4.93870582e-03, -3.59870843e-03,  1.22476239e-02,\n",
       "         4.26685147e-04, -3.82411182e-02, -1.51799209e-02, -7.76619324e-03,\n",
       "         7.38813775e-03,  2.59027630e-02, -5.11235464e-03,  1.03913546e-02,\n",
       "        -2.01925114e-02, -3.66935544e-02, -2.11620871e-02, -2.24726070e-02,\n",
       "         5.06120874e-03, -2.27723531e-02, -2.59763971e-02, -2.95143388e-02,\n",
       "         3.19228172e-02,  1.72646379e-03, -1.71301037e-03, -1.88836828e-02,\n",
       "         2.45878340e-07, -1.82406344e-02,  7.73078650e-02, -3.12312250e-03,\n",
       "         1.06382475e-03, -1.76214743e-02, -7.32336789e-02, -2.49373224e-02,\n",
       "        -1.46684365e-03,  3.81076755e-03,  1.58705227e-02, -2.21221074e-02,\n",
       "        -3.70354252e-03,  8.64966307e-03,  4.26114425e-02, -1.08743757e-02,\n",
       "        -8.16425234e-02,  5.92167271e-05, -6.61213771e-02, -3.31934541e-02,\n",
       "         2.40925271e-02,  1.17223989e-02,  4.97739315e-02,  4.54359204e-02,\n",
       "         1.14504108e-02,  2.32288279e-02, -2.68335845e-02, -4.43040654e-02,\n",
       "        -5.22103980e-02,  5.29723093e-02,  6.69447035e-02, -5.56257889e-02,\n",
       "         5.39704412e-02, -1.93052329e-02,  7.02873841e-02, -3.46008278e-02,\n",
       "        -3.76194753e-02,  2.63309013e-03, -1.50888581e-02,  3.21139582e-03,\n",
       "         2.07585916e-02,  1.55740706e-02, -6.81165140e-03, -5.87904006e-02,\n",
       "        -1.21518776e-01,  4.27505784e-02, -3.58962044e-02, -2.61311829e-02,\n",
       "         5.30623533e-02, -4.87666912e-02, -1.94068197e-02, -1.60190519e-02,\n",
       "         2.63555646e-02,  2.08819639e-02, -3.35377865e-02, -2.88361893e-03,\n",
       "        -2.54482254e-02, -4.53348570e-02,  2.82421266e-03,  1.41044827e-02,\n",
       "        -2.36910600e-02, -1.80279911e-02, -3.11211050e-02,  1.47074647e-02,\n",
       "        -5.41385226e-02, -7.54918787e-04,  4.00239229e-03,  2.70166602e-02,\n",
       "         2.48503776e-34,  4.10692720e-03, -1.67240314e-02,  2.28240713e-02,\n",
       "        -2.28906106e-02, -6.98963692e-03, -3.71278524e-02,  9.43501517e-02,\n",
       "        -2.18812358e-02, -5.53283375e-03, -4.50004227e-02, -4.09446508e-02],\n",
       "       dtype=float32)}"
      ]
     },
     "execution_count": 12,
     "metadata": {},
     "output_type": "execute_result"
    }
   ],
   "source": [
    "operations[1]"
   ]
  },
  {
   "cell_type": "markdown",
   "id": "2eba94be",
   "metadata": {},
   "source": [
    "## Setup ElasticSearch Connection"
   ]
  },
  {
   "cell_type": "code",
   "execution_count": 13,
   "id": "5954ba81",
   "metadata": {},
   "outputs": [],
   "source": [
    "from elasticsearch import Elasticsearch"
   ]
  },
  {
   "cell_type": "code",
   "execution_count": 14,
   "id": "93f08707",
   "metadata": {},
   "outputs": [],
   "source": [
    "es_client = Elasticsearch('http://127.0.0.1:9200')"
   ]
  },
  {
   "cell_type": "code",
   "execution_count": 15,
   "id": "435df6fa",
   "metadata": {},
   "outputs": [
    {
     "data": {
      "text/plain": [
       "ObjectApiResponse({'name': '741e032df576', 'cluster_name': 'docker-cluster', 'cluster_uuid': 'V2xgg5AYRgm0oJyx5TrxaA', 'version': {'number': '8.4.3', 'build_flavor': 'default', 'build_type': 'docker', 'build_hash': '42f05b9372a9a4a470db3b52817899b99a76ee73', 'build_date': '2022-10-04T07:17:24.662462378Z', 'build_snapshot': False, 'lucene_version': '9.3.0', 'minimum_wire_compatibility_version': '7.17.0', 'minimum_index_compatibility_version': '7.0.0'}, 'tagline': 'You Know, for Search'})"
      ]
     },
     "execution_count": 15,
     "metadata": {},
     "output_type": "execute_result"
    }
   ],
   "source": [
    "es_client.info()"
   ]
  },
  {
   "cell_type": "markdown",
   "id": "82fd4baf",
   "metadata": {},
   "source": [
    "## Create Mappings and Index"
   ]
  },
  {
   "cell_type": "code",
   "execution_count": 16,
   "id": "019b457f",
   "metadata": {},
   "outputs": [
    {
     "data": {
      "text/plain": [
       "ObjectApiResponse({'acknowledged': True, 'shards_acknowledged': True, 'index': 'semantic_course_question'})"
      ]
     },
     "execution_count": 16,
     "metadata": {},
     "output_type": "execute_result"
    }
   ],
   "source": [
    "index_settings = {\n",
    "    \"settings\": {\n",
    "        \"number_of_shards\": 1,\n",
    "        \"number_of_replicas\": 0\n",
    "    },\n",
    "    \"mappings\": {\n",
    "        \"properties\": {\n",
    "            \"text\": {\"type\": \"text\"},\n",
    "            \"section\": {\"type\": \"text\"},\n",
    "            \"question\": {\"type\": \"text\"},\n",
    "            \"course\": {\"type\": \"keyword\"},\n",
    "            \"text_vector\":{\"type\":\"dense_vector\",\"dims\":768,\"index\":True,\"similarity\":\"cosine\"}\n",
    "        }\n",
    "    }\n",
    "}\n",
    "index_name = 'semantic_course_question'\n",
    "es_client.indices.delete(index=index_name,ignore_unavailable=True)\n",
    "es_client.indices.create(index=index_name,body=index_settings)"
   ]
  },
  {
   "cell_type": "markdown",
   "id": "4a169cdb",
   "metadata": {},
   "source": [
    "## Add Index to Your Document"
   ]
  },
  {
   "cell_type": "code",
   "execution_count": 17,
   "id": "eb0682c6",
   "metadata": {},
   "outputs": [],
   "source": [
    "for doc in operations:\n",
    "    try:\n",
    "        es_client.index(index=index_name,document=doc)\n",
    "    except:\n",
    "        print(e)"
   ]
  },
  {
   "cell_type": "code",
   "execution_count": 18,
   "id": "1d9c9e07",
   "metadata": {},
   "outputs": [],
   "source": [
    "query = 'can I use windows in this course'\n",
    "query_vector = model.encode(query)"
   ]
  },
  {
   "cell_type": "code",
   "execution_count": 19,
   "id": "ccd120f3",
   "metadata": {},
   "outputs": [],
   "source": [
    "query = {\n",
    "    \"field\":\"text_vector\",\n",
    "    \"query_vector\":query_vector,\n",
    "    \"k\":5,\n",
    "    \"num_candidates\":10000\n",
    "}"
   ]
  },
  {
   "cell_type": "code",
   "execution_count": 20,
   "id": "c493b538",
   "metadata": {},
   "outputs": [],
   "source": [
    "results = es_client.search(index=index_name,knn=query,source=[\"text\",\"section\",\"question\",\"course\"])"
   ]
  },
  {
   "cell_type": "code",
   "execution_count": 21,
   "id": "c63b5105",
   "metadata": {},
   "outputs": [
    {
     "data": {
      "text/plain": [
       "[{'_shard': '[semantic_course_question][0]',\n",
       "  '_node': 'J_B72dnxRmi8U-nrbbH2jQ',\n",
       "  '_index': 'semantic_course_question',\n",
       "  '_id': 'FarKNZEBy-8yx8j45kgs',\n",
       "  '_score': 1.5656364,\n",
       "  '_source': {'question': 'Environment - Is the course [Windows/mac/Linux/...] friendly?',\n",
       "   'course': 'data-engineering-zoomcamp',\n",
       "   'section': 'General course-related questions',\n",
       "   'text': 'Yes! Linux is ideal but technically it should not matter. Students last year used all 3 OSes successfully'},\n",
       "  '_explanation': {'value': 1.5656364,\n",
       "   'description': 'sum of:',\n",
       "   'details': [{'value': 0.8134191,\n",
       "     'description': 'within top k documents',\n",
       "     'details': []},\n",
       "    {'value': 0.7522173,\n",
       "     'description': 'weight(course:data-engineering-zoomcamp in 13) [PerFieldSimilarity], result of:',\n",
       "     'details': [{'value': 0.7522173,\n",
       "       'description': 'score(freq=1.0), computed as boost * idf * tf from:',\n",
       "       'details': [{'value': 2.2, 'description': 'boost', 'details': []},\n",
       "        {'value': 0.7522173,\n",
       "         'description': 'idf, computed as log(1 + (N - n + 0.5) / (n + 0.5)) from:',\n",
       "         'details': [{'value': 435,\n",
       "           'description': 'n, number of documents containing term',\n",
       "           'details': []},\n",
       "          {'value': 923,\n",
       "           'description': 'N, total number of documents with field',\n",
       "           'details': []}]},\n",
       "        {'value': 0.45454544,\n",
       "         'description': 'tf, computed as freq / (freq + k1 * (1 - b + b * dl / avgdl)) from:',\n",
       "         'details': [{'value': 1.0,\n",
       "           'description': 'freq, occurrences of term within document',\n",
       "           'details': []},\n",
       "          {'value': 1.2,\n",
       "           'description': 'k1, term saturation parameter',\n",
       "           'details': []},\n",
       "          {'value': 0.75,\n",
       "           'description': 'b, length normalization parameter',\n",
       "           'details': []},\n",
       "          {'value': 1.0, 'description': 'dl, length of field', 'details': []},\n",
       "          {'value': 1.0,\n",
       "           'description': 'avgdl, average length of field',\n",
       "           'details': []}]}]}]}]}},\n",
       " {'_shard': '[semantic_course_question][0]',\n",
       "  '_node': 'J_B72dnxRmi8U-nrbbH2jQ',\n",
       "  '_index': 'semantic_course_question',\n",
       "  '_id': 'CKrKNZEBy-8yx8j45Ugz',\n",
       "  '_score': 1.5392766,\n",
       "  '_source': {'question': 'Environment - Do we really have to use GitHub codespaces? I already have PostgreSQL & Docker installed.',\n",
       "   'course': 'data-engineering-zoomcamp',\n",
       "   'section': 'General course-related questions',\n",
       "   'text': \"It's up to you which platform and environment you use for the course.\\nGithub codespaces or GCP VM are just possible options, but you can do the entire course from your laptop.\"},\n",
       "  '_explanation': {'value': 1.5392766,\n",
       "   'description': 'sum of:',\n",
       "   'details': [{'value': 0.7870593,\n",
       "     'description': 'within top k documents',\n",
       "     'details': []},\n",
       "    {'value': 0.7522173,\n",
       "     'description': 'weight(course:data-engineering-zoomcamp in 0) [PerFieldSimilarity], result of:',\n",
       "     'details': [{'value': 0.7522173,\n",
       "       'description': 'score(freq=1.0), computed as boost * idf * tf from:',\n",
       "       'details': [{'value': 2.2, 'description': 'boost', 'details': []},\n",
       "        {'value': 0.7522173,\n",
       "         'description': 'idf, computed as log(1 + (N - n + 0.5) / (n + 0.5)) from:',\n",
       "         'details': [{'value': 435,\n",
       "           'description': 'n, number of documents containing term',\n",
       "           'details': []},\n",
       "          {'value': 923,\n",
       "           'description': 'N, total number of documents with field',\n",
       "           'details': []}]},\n",
       "        {'value': 0.45454544,\n",
       "         'description': 'tf, computed as freq / (freq + k1 * (1 - b + b * dl / avgdl)) from:',\n",
       "         'details': [{'value': 1.0,\n",
       "           'description': 'freq, occurrences of term within document',\n",
       "           'details': []},\n",
       "          {'value': 1.2,\n",
       "           'description': 'k1, term saturation parameter',\n",
       "           'details': []},\n",
       "          {'value': 0.75,\n",
       "           'description': 'b, length normalization parameter',\n",
       "           'details': []},\n",
       "          {'value': 1.0, 'description': 'dl, length of field', 'details': []},\n",
       "          {'value': 1.0,\n",
       "           'description': 'avgdl, average length of field',\n",
       "           'details': []}]}]}]}]}},\n",
       " {'_shard': '[semantic_course_question][0]',\n",
       "  '_node': 'J_B72dnxRmi8U-nrbbH2jQ',\n",
       "  '_index': 'semantic_course_question',\n",
       "  '_id': 'DqrKNZEBy-8yx8j45Uix',\n",
       "  '_score': 1.4697926,\n",
       "  '_source': {'question': 'Environment - I want to use AWS. May I do that?',\n",
       "   'course': 'data-engineering-zoomcamp',\n",
       "   'section': 'General course-related questions',\n",
       "   'text': 'Yes, you can. Just remember to adapt all the information on the videos to AWS. Besides, the final capstone will be evaluated based on the task: Create a data pipeline! Develop a visualisation!\\nThe problem would be when you need help. You’d need to rely on  fellow coursemates who also use AWS (or have experience using it before), which might be in smaller numbers than those learning the course with GCP.\\nAlso see Is it possible to use x tool instead of the one tool you use?'},\n",
       "  '_explanation': {'value': 1.4697926,\n",
       "   'description': 'sum of:',\n",
       "   'details': [{'value': 0.7175753,\n",
       "     'description': 'within top k documents',\n",
       "     'details': []},\n",
       "    {'value': 0.7522173,\n",
       "     'description': 'weight(course:data-engineering-zoomcamp in 6) [PerFieldSimilarity], result of:',\n",
       "     'details': [{'value': 0.7522173,\n",
       "       'description': 'score(freq=1.0), computed as boost * idf * tf from:',\n",
       "       'details': [{'value': 2.2, 'description': 'boost', 'details': []},\n",
       "        {'value': 0.7522173,\n",
       "         'description': 'idf, computed as log(1 + (N - n + 0.5) / (n + 0.5)) from:',\n",
       "         'details': [{'value': 435,\n",
       "           'description': 'n, number of documents containing term',\n",
       "           'details': []},\n",
       "          {'value': 923,\n",
       "           'description': 'N, total number of documents with field',\n",
       "           'details': []}]},\n",
       "        {'value': 0.45454544,\n",
       "         'description': 'tf, computed as freq / (freq + k1 * (1 - b + b * dl / avgdl)) from:',\n",
       "         'details': [{'value': 1.0,\n",
       "           'description': 'freq, occurrences of term within document',\n",
       "           'details': []},\n",
       "          {'value': 1.2,\n",
       "           'description': 'k1, term saturation parameter',\n",
       "           'details': []},\n",
       "          {'value': 0.75,\n",
       "           'description': 'b, length normalization parameter',\n",
       "           'details': []},\n",
       "          {'value': 1.0, 'description': 'dl, length of field', 'details': []},\n",
       "          {'value': 1.0,\n",
       "           'description': 'avgdl, average length of field',\n",
       "           'details': []}]}]}]}]}},\n",
       " {'_shard': '[semantic_course_question][0]',\n",
       "  '_node': 'J_B72dnxRmi8U-nrbbH2jQ',\n",
       "  '_index': 'semantic_course_question',\n",
       "  '_id': 'E6rKNZEBy-8yx8j45kgK',\n",
       "  '_score': 1.4529955,\n",
       "  '_source': {'question': 'Is it possible to use tool “X” instead of the one tool you use in the course?',\n",
       "   'course': 'data-engineering-zoomcamp',\n",
       "   'section': 'General course-related questions',\n",
       "   'text': 'Yes, this applies if you want to use Airflow or Prefect instead of Mage, AWS or Snowflake instead of GCP products or Tableau instead of Metabase or Google data studio.\\nThe course covers 2 alternative data stacks, one using GCP and one using local installation of everything. You can use one of them or use your tool of choice.\\nShould you consider it instead of the one tool you use? That we can’t support you if you choose to use a different stack, also you would need to explain the different choices of tool for the peer review of your capstone project.'},\n",
       "  '_explanation': {'value': 1.4529955,\n",
       "   'description': 'sum of:',\n",
       "   'details': [{'value': 0.7007782,\n",
       "     'description': 'within top k documents',\n",
       "     'details': []},\n",
       "    {'value': 0.7522173,\n",
       "     'description': 'weight(course:data-engineering-zoomcamp in 11) [PerFieldSimilarity], result of:',\n",
       "     'details': [{'value': 0.7522173,\n",
       "       'description': 'score(freq=1.0), computed as boost * idf * tf from:',\n",
       "       'details': [{'value': 2.2, 'description': 'boost', 'details': []},\n",
       "        {'value': 0.7522173,\n",
       "         'description': 'idf, computed as log(1 + (N - n + 0.5) / (n + 0.5)) from:',\n",
       "         'details': [{'value': 435,\n",
       "           'description': 'n, number of documents containing term',\n",
       "           'details': []},\n",
       "          {'value': 923,\n",
       "           'description': 'N, total number of documents with field',\n",
       "           'details': []}]},\n",
       "        {'value': 0.45454544,\n",
       "         'description': 'tf, computed as freq / (freq + k1 * (1 - b + b * dl / avgdl)) from:',\n",
       "         'details': [{'value': 1.0,\n",
       "           'description': 'freq, occurrences of term within document',\n",
       "           'details': []},\n",
       "          {'value': 1.2,\n",
       "           'description': 'k1, term saturation parameter',\n",
       "           'details': []},\n",
       "          {'value': 0.75,\n",
       "           'description': 'b, length normalization parameter',\n",
       "           'details': []},\n",
       "          {'value': 1.0, 'description': 'dl, length of field', 'details': []},\n",
       "          {'value': 1.0,\n",
       "           'description': 'avgdl, average length of field',\n",
       "           'details': []}]}]}]}]}},\n",
       " {'_shard': '[semantic_course_question][0]',\n",
       "  '_node': 'J_B72dnxRmi8U-nrbbH2jQ',\n",
       "  '_index': 'semantic_course_question',\n",
       "  '_id': 'CarKNZEBy-8yx8j45UhS',\n",
       "  '_score': 0.7522173,\n",
       "  '_source': {'question': 'Environment - Do I need both GitHub Codespaces and GCP?',\n",
       "   'course': 'data-engineering-zoomcamp',\n",
       "   'section': 'General course-related questions',\n",
       "   'text': 'Choose the approach that aligns the most with your idea for the end project\\nOne of those should suffice. However, BigQuery, which is part of GCP, will be used, so learning that is probably a better option. Or you can set up a local environment for most of this course.'},\n",
       "  '_explanation': {'value': 0.7522173,\n",
       "   'description': 'sum of:',\n",
       "   'details': [{'value': 0.7522173,\n",
       "     'description': 'weight(course:data-engineering-zoomcamp in 1) [PerFieldSimilarity], result of:',\n",
       "     'details': [{'value': 0.7522173,\n",
       "       'description': 'score(freq=1.0), computed as boost * idf * tf from:',\n",
       "       'details': [{'value': 2.2, 'description': 'boost', 'details': []},\n",
       "        {'value': 0.7522173,\n",
       "         'description': 'idf, computed as log(1 + (N - n + 0.5) / (n + 0.5)) from:',\n",
       "         'details': [{'value': 435,\n",
       "           'description': 'n, number of documents containing term',\n",
       "           'details': []},\n",
       "          {'value': 923,\n",
       "           'description': 'N, total number of documents with field',\n",
       "           'details': []}]},\n",
       "        {'value': 0.45454544,\n",
       "         'description': 'tf, computed as freq / (freq + k1 * (1 - b + b * dl / avgdl)) from:',\n",
       "         'details': [{'value': 1.0,\n",
       "           'description': 'freq, occurrences of term within document',\n",
       "           'details': []},\n",
       "          {'value': 1.2,\n",
       "           'description': 'k1, term saturation parameter',\n",
       "           'details': []},\n",
       "          {'value': 0.75,\n",
       "           'description': 'b, length normalization parameter',\n",
       "           'details': []},\n",
       "          {'value': 1.0, 'description': 'dl, length of field', 'details': []},\n",
       "          {'value': 1.0,\n",
       "           'description': 'avgdl, average length of field',\n",
       "           'details': []}]}]}]}]}},\n",
       " {'_shard': '[semantic_course_question][0]',\n",
       "  '_node': 'J_B72dnxRmi8U-nrbbH2jQ',\n",
       "  '_index': 'semantic_course_question',\n",
       "  '_id': 'CqrKNZEBy-8yx8j45Uhn',\n",
       "  '_score': 0.7522173,\n",
       "  '_source': {'question': 'This happens when attempting to connect to a GCP VM using VSCode on a Windows machine. Changing registry value in registry editor',\n",
       "   'course': 'data-engineering-zoomcamp',\n",
       "   'section': 'General course-related questions',\n",
       "   'text': '1. To open Run command window, you can either:\\n(1-1) Use the shortcut keys: \\'Windows + R\\', or\\n(1-2) Right Click \"Start\", and click \"Run\" to open.\\n2. Registry Values Located in Registry Editor, to open it: Type \\'regedit\\' in the Run command window, and then press Enter.\\' 3. Now you can change the registry values \"Autorun\" in \"HKEY_CURRENT_USER\\\\Software\\\\Microsoft\\\\Command Processor\" from \"if exists\" to a blank.\\nAlternatively, You can simplify the solution by deleting the fingerprint saved within the known_hosts file. In Windows, this file is placed at  C:\\\\Users\\\\<your_user_name>\\\\.ssh\\\\known_host'},\n",
       "  '_explanation': {'value': 0.7522173,\n",
       "   'description': 'sum of:',\n",
       "   'details': [{'value': 0.7522173,\n",
       "     'description': 'weight(course:data-engineering-zoomcamp in 2) [PerFieldSimilarity], result of:',\n",
       "     'details': [{'value': 0.7522173,\n",
       "       'description': 'score(freq=1.0), computed as boost * idf * tf from:',\n",
       "       'details': [{'value': 2.2, 'description': 'boost', 'details': []},\n",
       "        {'value': 0.7522173,\n",
       "         'description': 'idf, computed as log(1 + (N - n + 0.5) / (n + 0.5)) from:',\n",
       "         'details': [{'value': 435,\n",
       "           'description': 'n, number of documents containing term',\n",
       "           'details': []},\n",
       "          {'value': 923,\n",
       "           'description': 'N, total number of documents with field',\n",
       "           'details': []}]},\n",
       "        {'value': 0.45454544,\n",
       "         'description': 'tf, computed as freq / (freq + k1 * (1 - b + b * dl / avgdl)) from:',\n",
       "         'details': [{'value': 1.0,\n",
       "           'description': 'freq, occurrences of term within document',\n",
       "           'details': []},\n",
       "          {'value': 1.2,\n",
       "           'description': 'k1, term saturation parameter',\n",
       "           'details': []},\n",
       "          {'value': 0.75,\n",
       "           'description': 'b, length normalization parameter',\n",
       "           'details': []},\n",
       "          {'value': 1.0, 'description': 'dl, length of field', 'details': []},\n",
       "          {'value': 1.0,\n",
       "           'description': 'avgdl, average length of field',\n",
       "           'details': []}]}]}]}]}},\n",
       " {'_shard': '[semantic_course_question][0]',\n",
       "  '_node': 'J_B72dnxRmi8U-nrbbH2jQ',\n",
       "  '_index': 'semantic_course_question',\n",
       "  '_id': 'C6rKNZEBy-8yx8j45Uh6',\n",
       "  '_score': 0.7522173,\n",
       "  '_source': {'question': 'Environment - Why are we using GCP and not other cloud providers?',\n",
       "   'course': 'data-engineering-zoomcamp',\n",
       "   'section': 'General course-related questions',\n",
       "   'text': 'For uniformity at least, but you’re not restricted to GCP, you can use other cloud platforms like AWS if you’re comfortable with other cloud platforms, since you get every service that’s been provided by GCP in Azure and AWS or others..\\nBecause everyone has a google account, GCP has a free trial period and gives $300 in credits  to new users. Also, we are working with BigQuery, which is a part of GCP.\\nNote that to sign up for a free GCP account, you must have a valid credit card.'},\n",
       "  '_explanation': {'value': 0.7522173,\n",
       "   'description': 'sum of:',\n",
       "   'details': [{'value': 0.7522173,\n",
       "     'description': 'weight(course:data-engineering-zoomcamp in 3) [PerFieldSimilarity], result of:',\n",
       "     'details': [{'value': 0.7522173,\n",
       "       'description': 'score(freq=1.0), computed as boost * idf * tf from:',\n",
       "       'details': [{'value': 2.2, 'description': 'boost', 'details': []},\n",
       "        {'value': 0.7522173,\n",
       "         'description': 'idf, computed as log(1 + (N - n + 0.5) / (n + 0.5)) from:',\n",
       "         'details': [{'value': 435,\n",
       "           'description': 'n, number of documents containing term',\n",
       "           'details': []},\n",
       "          {'value': 923,\n",
       "           'description': 'N, total number of documents with field',\n",
       "           'details': []}]},\n",
       "        {'value': 0.45454544,\n",
       "         'description': 'tf, computed as freq / (freq + k1 * (1 - b + b * dl / avgdl)) from:',\n",
       "         'details': [{'value': 1.0,\n",
       "           'description': 'freq, occurrences of term within document',\n",
       "           'details': []},\n",
       "          {'value': 1.2,\n",
       "           'description': 'k1, term saturation parameter',\n",
       "           'details': []},\n",
       "          {'value': 0.75,\n",
       "           'description': 'b, length normalization parameter',\n",
       "           'details': []},\n",
       "          {'value': 1.0, 'description': 'dl, length of field', 'details': []},\n",
       "          {'value': 1.0,\n",
       "           'description': 'avgdl, average length of field',\n",
       "           'details': []}]}]}]}]}},\n",
       " {'_shard': '[semantic_course_question][0]',\n",
       "  '_node': 'J_B72dnxRmi8U-nrbbH2jQ',\n",
       "  '_index': 'semantic_course_question',\n",
       "  '_id': 'DKrKNZEBy-8yx8j45UiN',\n",
       "  '_score': 0.7522173,\n",
       "  '_source': {'question': 'Should I pay for cloud services?',\n",
       "   'course': 'data-engineering-zoomcamp',\n",
       "   'section': 'General course-related questions',\n",
       "   'text': 'No, if you use GCP and take advantage of their free trial.'},\n",
       "  '_explanation': {'value': 0.7522173,\n",
       "   'description': 'sum of:',\n",
       "   'details': [{'value': 0.7522173,\n",
       "     'description': 'weight(course:data-engineering-zoomcamp in 4) [PerFieldSimilarity], result of:',\n",
       "     'details': [{'value': 0.7522173,\n",
       "       'description': 'score(freq=1.0), computed as boost * idf * tf from:',\n",
       "       'details': [{'value': 2.2, 'description': 'boost', 'details': []},\n",
       "        {'value': 0.7522173,\n",
       "         'description': 'idf, computed as log(1 + (N - n + 0.5) / (n + 0.5)) from:',\n",
       "         'details': [{'value': 435,\n",
       "           'description': 'n, number of documents containing term',\n",
       "           'details': []},\n",
       "          {'value': 923,\n",
       "           'description': 'N, total number of documents with field',\n",
       "           'details': []}]},\n",
       "        {'value': 0.45454544,\n",
       "         'description': 'tf, computed as freq / (freq + k1 * (1 - b + b * dl / avgdl)) from:',\n",
       "         'details': [{'value': 1.0,\n",
       "           'description': 'freq, occurrences of term within document',\n",
       "           'details': []},\n",
       "          {'value': 1.2,\n",
       "           'description': 'k1, term saturation parameter',\n",
       "           'details': []},\n",
       "          {'value': 0.75,\n",
       "           'description': 'b, length normalization parameter',\n",
       "           'details': []},\n",
       "          {'value': 1.0, 'description': 'dl, length of field', 'details': []},\n",
       "          {'value': 1.0,\n",
       "           'description': 'avgdl, average length of field',\n",
       "           'details': []}]}]}]}]}},\n",
       " {'_shard': '[semantic_course_question][0]',\n",
       "  '_node': 'J_B72dnxRmi8U-nrbbH2jQ',\n",
       "  '_index': 'semantic_course_question',\n",
       "  '_id': 'DarKNZEBy-8yx8j45Uig',\n",
       "  '_score': 0.7522173,\n",
       "  '_source': {'question': 'Environment - The GCP and other cloud providers are unavailable in some countries. Is it possible to provide a guide to installing a home lab?',\n",
       "   'course': 'data-engineering-zoomcamp',\n",
       "   'section': 'General course-related questions',\n",
       "   'text': 'You can do most of the course without a cloud. Almost everything we use (excluding BigQuery) can be run locally. We won’t be able to provide guidelines for some things, but most of the materials are runnable without GCP.\\nFor everything in the course, there’s a local alternative. You could even do the whole course locally.'},\n",
       "  '_explanation': {'value': 0.7522173,\n",
       "   'description': 'sum of:',\n",
       "   'details': [{'value': 0.7522173,\n",
       "     'description': 'weight(course:data-engineering-zoomcamp in 5) [PerFieldSimilarity], result of:',\n",
       "     'details': [{'value': 0.7522173,\n",
       "       'description': 'score(freq=1.0), computed as boost * idf * tf from:',\n",
       "       'details': [{'value': 2.2, 'description': 'boost', 'details': []},\n",
       "        {'value': 0.7522173,\n",
       "         'description': 'idf, computed as log(1 + (N - n + 0.5) / (n + 0.5)) from:',\n",
       "         'details': [{'value': 435,\n",
       "           'description': 'n, number of documents containing term',\n",
       "           'details': []},\n",
       "          {'value': 923,\n",
       "           'description': 'N, total number of documents with field',\n",
       "           'details': []}]},\n",
       "        {'value': 0.45454544,\n",
       "         'description': 'tf, computed as freq / (freq + k1 * (1 - b + b * dl / avgdl)) from:',\n",
       "         'details': [{'value': 1.0,\n",
       "           'description': 'freq, occurrences of term within document',\n",
       "           'details': []},\n",
       "          {'value': 1.2,\n",
       "           'description': 'k1, term saturation parameter',\n",
       "           'details': []},\n",
       "          {'value': 0.75,\n",
       "           'description': 'b, length normalization parameter',\n",
       "           'details': []},\n",
       "          {'value': 1.0, 'description': 'dl, length of field', 'details': []},\n",
       "          {'value': 1.0,\n",
       "           'description': 'avgdl, average length of field',\n",
       "           'details': []}]}]}]}]}},\n",
       " {'_shard': '[semantic_course_question][0]',\n",
       "  '_node': 'J_B72dnxRmi8U-nrbbH2jQ',\n",
       "  '_index': 'semantic_course_question',\n",
       "  '_id': 'D6rKNZEBy-8yx8j45UjD',\n",
       "  '_score': 0.7522173,\n",
       "  '_source': {'question': 'Besides the “Office Hour” which are the live zoom calls?',\n",
       "   'course': 'data-engineering-zoomcamp',\n",
       "   'section': 'General course-related questions',\n",
       "   'text': 'We will probably have some calls during the Capstone period to clear some questions but it will be announced in advance if that happens.'},\n",
       "  '_explanation': {'value': 0.7522173,\n",
       "   'description': 'sum of:',\n",
       "   'details': [{'value': 0.7522173,\n",
       "     'description': 'weight(course:data-engineering-zoomcamp in 7) [PerFieldSimilarity], result of:',\n",
       "     'details': [{'value': 0.7522173,\n",
       "       'description': 'score(freq=1.0), computed as boost * idf * tf from:',\n",
       "       'details': [{'value': 2.2, 'description': 'boost', 'details': []},\n",
       "        {'value': 0.7522173,\n",
       "         'description': 'idf, computed as log(1 + (N - n + 0.5) / (n + 0.5)) from:',\n",
       "         'details': [{'value': 435,\n",
       "           'description': 'n, number of documents containing term',\n",
       "           'details': []},\n",
       "          {'value': 923,\n",
       "           'description': 'N, total number of documents with field',\n",
       "           'details': []}]},\n",
       "        {'value': 0.45454544,\n",
       "         'description': 'tf, computed as freq / (freq + k1 * (1 - b + b * dl / avgdl)) from:',\n",
       "         'details': [{'value': 1.0,\n",
       "           'description': 'freq, occurrences of term within document',\n",
       "           'details': []},\n",
       "          {'value': 1.2,\n",
       "           'description': 'k1, term saturation parameter',\n",
       "           'details': []},\n",
       "          {'value': 0.75,\n",
       "           'description': 'b, length normalization parameter',\n",
       "           'details': []},\n",
       "          {'value': 1.0, 'description': 'dl, length of field', 'details': []},\n",
       "          {'value': 1.0,\n",
       "           'description': 'avgdl, average length of field',\n",
       "           'details': []}]}]}]}]}}]"
      ]
     },
     "execution_count": 21,
     "metadata": {},
     "output_type": "execute_result"
    }
   ],
   "source": [
    "results = es_client.search(\n",
    "    index=index_name,\n",
    "    knn=query,\n",
    "    query={\n",
    "        \"match\":{\n",
    "            \"course\":\"data-engineering-zoomcamp\"\n",
    "        }\n",
    "    },\n",
    "    source=[\"text\",\"section\",\"question\",\"course\"],\n",
    "    explain=True)\n",
    "results[\"hits\"][\"hits\"]"
   ]
  },
  {
   "cell_type": "markdown",
   "id": "ae0a8ce9",
   "metadata": {},
   "source": [
    "# Ground Truth Dataset"
   ]
  },
  {
   "cell_type": "code",
   "execution_count": 35,
   "id": "d5fadc48",
   "metadata": {},
   "outputs": [],
   "source": [
    "with open('documents.json','rt') as f:\n",
    "    docs_raw = json.load(f)"
   ]
  },
  {
   "cell_type": "code",
   "execution_count": 36,
   "id": "ea3550b4",
   "metadata": {},
   "outputs": [],
   "source": [
    "documents = []\n",
    "for course_dict in docs_raw:\n",
    "    for doc in course_dict['documents']:\n",
    "        doc['course'] = course_dict['course']\n",
    "        documents.append(doc)"
   ]
  },
  {
   "cell_type": "markdown",
   "id": "20354e7b",
   "metadata": {},
   "source": [
    "## Add Id Columns"
   ]
  },
  {
   "cell_type": "markdown",
   "id": "4e71a0d1",
   "metadata": {},
   "source": [
    "### Simple Id"
   ]
  },
  {
   "cell_type": "code",
   "execution_count": 26,
   "id": "a46c57e8",
   "metadata": {},
   "outputs": [],
   "source": [
    "n = len(documents)\n",
    "for i in range(n):\n",
    "    documents[i]['id']=i"
   ]
  },
  {
   "cell_type": "code",
   "execution_count": 27,
   "id": "9fd79bfc",
   "metadata": {},
   "outputs": [
    {
     "data": {
      "text/plain": [
       "{'text': 'GitHub - DataTalksClub data-engineering-zoomcamp#prerequisites',\n",
       " 'section': 'General course-related questions',\n",
       " 'question': 'Course - What are the prerequisites for this course?',\n",
       " 'course': 'data-engineering-zoomcamp',\n",
       " 'id': 1}"
      ]
     },
     "execution_count": 27,
     "metadata": {},
     "output_type": "execute_result"
    }
   ],
   "source": [
    "documents[1]"
   ]
  },
  {
   "cell_type": "markdown",
   "id": "b8f26dd8",
   "metadata": {},
   "source": [
    "### Hash Id with course, question and text"
   ]
  },
  {
   "cell_type": "code",
   "execution_count": 37,
   "id": "cd77482c",
   "metadata": {},
   "outputs": [],
   "source": [
    "import hashlib\n",
    "\n",
    "def generate_document_id(doc):\n",
    "    combined = f\"{doc['course']}-{doc['question']}-{doc['text'][:10]}\"\n",
    "    hash_object = hashlib.md5(combined.encode())\n",
    "    hash_hex = hash_object.hexdigest()\n",
    "    document_id = hash_hex[:8]\n",
    "    return document_id"
   ]
  },
  {
   "cell_type": "code",
   "execution_count": 38,
   "id": "6dcfc7ec",
   "metadata": {},
   "outputs": [],
   "source": [
    "for doc in documents:\n",
    "    doc['id']=generate_document_id(doc)"
   ]
  },
  {
   "cell_type": "code",
   "execution_count": 39,
   "id": "aae429ef",
   "metadata": {},
   "outputs": [
    {
     "data": {
      "text/plain": [
       "{'text': \"You don't need it. You're accepted. You can also just start learning and submitting homework without registering. It is not checked against any registered list. Registration is just to gauge interest before the start date.\",\n",
       " 'section': 'General course-related questions',\n",
       " 'question': 'Course - I have registered for the Data Engineering Bootcamp. When can I expect to receive the confirmation email?',\n",
       " 'course': 'data-engineering-zoomcamp',\n",
       " 'id': '0bbf41ec'}"
      ]
     },
     "execution_count": 39,
     "metadata": {},
     "output_type": "execute_result"
    }
   ],
   "source": [
    "documents[3]"
   ]
  },
  {
   "cell_type": "code",
   "execution_count": 41,
   "id": "84a3c0e8",
   "metadata": {},
   "outputs": [],
   "source": [
    "from collections import defaultdict"
   ]
  },
  {
   "cell_type": "code",
   "execution_count": 43,
   "id": "10ee07dd",
   "metadata": {},
   "outputs": [],
   "source": [
    "hashes = defaultdict(list)\n",
    "\n",
    "for doc in documents:\n",
    "    doc_id = doc['id']\n",
    "    hashes[doc_id].append(doc)"
   ]
  },
  {
   "cell_type": "code",
   "execution_count": 44,
   "id": "c961b831",
   "metadata": {},
   "outputs": [
    {
     "data": {
      "text/plain": [
       "(947, 948)"
      ]
     },
     "execution_count": 44,
     "metadata": {},
     "output_type": "execute_result"
    }
   ],
   "source": [
    "len(hashes),len(documents)"
   ]
  },
  {
   "cell_type": "code",
   "execution_count": 45,
   "id": "b67b912d",
   "metadata": {},
   "outputs": [
    {
     "name": "stdout",
     "output_type": "stream",
     "text": [
      "593f7569 2\n"
     ]
    }
   ],
   "source": [
    "for k,values in hashes.items():\n",
    "    if len(values) > 1:\n",
    "        print(k,len(values))"
   ]
  },
  {
   "cell_type": "code",
   "execution_count": 46,
   "id": "a85a7be5",
   "metadata": {
    "scrolled": true
   },
   "outputs": [
    {
     "data": {
      "text/plain": [
       "[{'text': \"They both do the same, it's just less typing from the script.\\nAsked by Andrew Katoch, Added by Edidiong Esu\",\n",
       "  'section': '6. Decision Trees and Ensemble Learning',\n",
       "  'question': 'Does it matter if we let the Python file create the server or if we run gunicorn directly?',\n",
       "  'course': 'machine-learning-zoomcamp',\n",
       "  'id': '593f7569'},\n",
       " {'text': \"They both do the same, it's just less typing from the script.\",\n",
       "  'section': '6. Decision Trees and Ensemble Learning',\n",
       "  'question': 'Does it matter if we let the Python file create the server or if we run gunicorn directly?',\n",
       "  'course': 'machine-learning-zoomcamp',\n",
       "  'id': '593f7569'}]"
      ]
     },
     "execution_count": 46,
     "metadata": {},
     "output_type": "execute_result"
    }
   ],
   "source": [
    "hashes['593f7569']"
   ]
  },
  {
   "cell_type": "markdown",
   "id": "0fff8535",
   "metadata": {},
   "source": [
    "duplicate detected"
   ]
  },
  {
   "cell_type": "code",
   "execution_count": 52,
   "id": "e5d5a780",
   "metadata": {},
   "outputs": [],
   "source": [
    "with open('documents-with-ids.json','wt') as f:\n",
    "    json.dump(documents,f,indent=2)"
   ]
  },
  {
   "cell_type": "code",
   "execution_count": null,
   "id": "92afa46f",
   "metadata": {},
   "outputs": [],
   "source": []
  }
 ],
 "metadata": {
  "kernelspec": {
   "display_name": "Python 3 (ipykernel)",
   "language": "python",
   "name": "python3"
  },
  "language_info": {
   "codemirror_mode": {
    "name": "ipython",
    "version": 3
   },
   "file_extension": ".py",
   "mimetype": "text/x-python",
   "name": "python",
   "nbconvert_exporter": "python",
   "pygments_lexer": "ipython3",
   "version": "3.10.12"
  }
 },
 "nbformat": 4,
 "nbformat_minor": 5
}
